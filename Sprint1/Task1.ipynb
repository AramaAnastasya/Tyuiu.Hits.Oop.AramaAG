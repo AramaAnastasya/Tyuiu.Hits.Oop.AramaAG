{
 "cells": [
  {
   "cell_type": "markdown",
   "metadata": {},
   "source": [
    "<h4 style=\"color:Red\">Задание:</h4>\n",
    "\n",
    "----\n",
    "\n",
    "Ниже в блоке по примеру создайте базовый класс Animal и производные классы (2-3 например Dog, Cat и так далее) реализуйте структуру и объявление класса, включая свойства, геттеры и сеттеры, а также статические и обычными атрибуты и метода класса\n"
   ]
  },
  {
   "cell_type": "code",
   "execution_count": 1,
   "metadata": {
    "vscode": {
     "languageId": "polyglot-notebook"
    }
   },
   "outputs": [
    {
     "name": "stdout",
     "output_type": "stream",
     "text": [
      "Привет! Я - животное. Меня зовут Арлен и мне 4\n",
      "Арлен - Копибара весом 25кг плавает озере.\n",
      "\n",
      "Привет! Я - животное. Меня зовут Рий и мне 1\n",
      "Голубь - Рий со скоростью 98км/ч летает над озером.\n",
      "\n",
      "Привет! Я - животное. Меня зовут Тартила и мне 9\n",
      "Чeрепаха Тартила ползёт с длинной панцыря 0,5м.\n"
     ]
    }
   ],
   "source": [
    "public interface IAction\n",
    "{\n",
    "    void Action();\n",
    "}\n",
    "public abstract class Animal : IAction\n",
    "{\n",
    "    private string _name;\n",
    "    private int _age;\n",
    "    public string Name\n",
    "    {\n",
    "        get { return _name;}\n",
    "        set {\n",
    "            if (!string.IsNullOrWhiteSpace(value))\n",
    "            _name = value;\n",
    "        else\n",
    "            throw new ArgumentException(\"Имя не должно быть пустым.\");\n",
    "        }\n",
    "    }\n",
    "    public int Age\n",
    "    {\n",
    "        get { return _age;}\n",
    "        set\n",
    "        {\n",
    "            if (value > 0)\n",
    "                _age = value;\n",
    "            else\n",
    "                throw new ArgumentOutOfRangeException(\"Возраст не может быть меньше или равен нулю.\");\n",
    "        }\n",
    "    }\n",
    "    public Animal(string name, int age)\n",
    "    {\n",
    "        Name = name;\n",
    "        Age = age;\n",
    "    }\n",
    "    public void Hello()\n",
    "    {\n",
    "        Console.WriteLine($\"Привет! Я - животное. Меня зовут {Name} и мне {Age}\");\n",
    "    }\n",
    "    public virtual void Action()\n",
    "    {\n",
    "        Console.WriteLine(\"Я выполняю действие.\");\n",
    "    }\n",
    "}\n",
    "public class Copybara : Animal\n",
    "{\n",
    "    private int _weight;\n",
    "    public int Weight\n",
    "    {\n",
    "        get {return _weight;}\n",
    "        set {\n",
    "                if(value > 0)\n",
    "                    _weight = value;\n",
    "                else\n",
    "                throw new ArgumentOutOfRangeException(\"Вес не может быть меньше или равен нулю.\");}\n",
    "    } \n",
    "    public Copybara(string name, int age, int weight) : base(name, age)\n",
    "    {\n",
    "        Weight = weight;\n",
    "    }\n",
    "    public override void Action()\n",
    "    {\n",
    "        Console.WriteLine($\"{Name} - Копибара весом {Weight}кг плавает озере.\\n\");\n",
    "    }\n",
    "}\n",
    "public class Dove : Animal\n",
    "{\n",
    "    private int _speed;\n",
    "    public int Speed\n",
    "    {\n",
    "        get {return _speed;}\n",
    "        set {\n",
    "                if (value > 0)\n",
    "                    _speed = value;\n",
    "                else\n",
    "                    throw new ArgumentOutOfRangeException(\"Скорость не может быть меньше или равна нулю.\");}\n",
    "    } \n",
    "    public Dove(string name, int age, int speed) : base(name, age)\n",
    "    {\n",
    "        Speed = speed;\n",
    "    }\n",
    "    public override void Action()\n",
    "    {\n",
    "        Console.WriteLine($\"Голубь - {Name} со скоростью {Speed}км/ч летает над озером.\\n\");\n",
    "    }\n",
    "}\n",
    "public class Turtle : Animal\n",
    "{\n",
    "    public double _shellLength;\n",
    "    public double ShellLength\n",
    "    {\n",
    "        get { return _shellLength; }\n",
    "        set {\n",
    "            if (value > 0 && value <= 0.8)\n",
    "                _shellLength = value;\n",
    "            else\n",
    "                throw new ArgumentException(\"Длина панциря должна быть больше 0 и не превышать 0.8 метра.\");\n",
    "        }\n",
    "    }\n",
    "    public Turtle(string name, int age, double shellLength) : base(name, age)\n",
    "    {\n",
    "        ShellLength = shellLength;\n",
    "    }\n",
    "    public override void Action()\n",
    "    {\n",
    "        Console.WriteLine($\"Чeрепаха {Name} ползёт с длинной панцыря {ShellLength}м.\");\n",
    "    }\n",
    "}\n",
    "\n",
    "Copybara copybara = new Copybara(\"Арлен\", 4, 25);\n",
    "Animal animal = (Animal)copybara;\n",
    "animal.Hello();\n",
    "copybara.Action();\n",
    "\n",
    "Dove dove = new Dove(\"Рий\", 1, 98);\n",
    "Animal animal2 = (Animal)dove;\n",
    "animal2.Hello();\n",
    "dove.Action();\n",
    "\n",
    "Turtle turtle = new Turtle(\"Тартила\", 9, 0.5);\n",
    "Animal animal3 = (Animal)turtle;\n",
    "animal3.Hello();\n",
    "turtle.Action();\n"
   ]
  }
 ],
 "metadata": {
  "kernelspec": {
   "display_name": ".NET (C#)",
   "language": "C#",
   "name": ".net-csharp"
  },
  "language_info": {
   "name": "python"
  },
  "polyglot_notebook": {
   "kernelInfo": {
    "defaultKernelName": "csharp",
    "items": [
     {
      "aliases": [],
      "name": "csharp"
     }
    ]
   }
  }
 },
 "nbformat": 4,
 "nbformat_minor": 2
}
