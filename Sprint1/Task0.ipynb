{
 "cells": [
  {
   "cell_type": "markdown",
   "metadata": {},
   "source": [
    "<h4 style=\"color:Red\">Задание:</h4>\n",
    "\n",
    "----\n",
    "\n",
    "Ниже в блоке по примеру создайте базовый класс Animal и реализуйте структуру класса, атрибуты, методы, модификаторы доступа, статические члены, конструкторы, интерфейсы и состояние класса.\n"
   ]
  },
  {
   "cell_type": "code",
   "execution_count": 2,
   "metadata": {
    "vscode": {
     "languageId": "polyglot-notebook"
    }
   },
   "outputs": [
    {
     "name": "stdout",
     "output_type": "stream",
     "text": [
      "Привет! Я - копибара. Меня зовут Арлен и мне 4\n",
      "Мой вес равен 35 кг\n",
      "Я как, копибара, умею лаять.\n",
      "Количество копибар: 1\n",
      "\n",
      "Привет! Я - копибара. Меня зовут Рони и мне 2\n",
      "Мой вес равен 40 кг\n",
      "Я как, копибара, умею лаять.\n",
      "Количество копибар: 2\n",
      "\n"
     ]
    }
   ],
   "source": [
    "public interface IVocalizable\n",
    "{\n",
    "    void Sound();\n",
    "}\n",
    "public abstract class Animal\n",
    "{\n",
    "   public string Name { get; set; }\n",
    "    public int Age { get; set; }\n",
    "    public Animal(string name, int age)\n",
    "    {\n",
    "        Name = name;\n",
    "        Age = age;\n",
    "    }\n",
    "    \n",
    "    public virtual void Hello()\n",
    "    {\n",
    "        Console.WriteLine($\"Привет! Я - животное. Меня зовут {Name} и мне {Age}\\n\");\n",
    "    }\n",
    "    public virtual void Sound()\n",
    "    {\n",
    "        Console.WriteLine($\"{Name} издаёт звук.\");\n",
    "    }\n",
    "}\n",
    "public class Copybara : Animal, IVocalizable\n",
    "{\n",
    "    public static int Count { get; private set; }\n",
    "    private string Weight {get;set;}\n",
    "    public Copybara(string name, int age, string weight) : base(name, age)\n",
    "    {\n",
    "        Weight = weight;\n",
    "        Count++;\n",
    "    }\n",
    "    public override void Hello()\n",
    "    {\n",
    "        Console.WriteLine($\"Привет! Я - копибара. Меня зовут {Name} и мне {Age}\");\n",
    "    }\n",
    "    public void WeightCopybara()\n",
    "    {\n",
    "        Console.WriteLine($\"Мой вес равен {Weight}\");\n",
    "    }\n",
    "    public override void Sound()\n",
    "    {\n",
    "        Console.WriteLine(\"Я как, копибара, умею лаять.\");\n",
    "    }\n",
    "    public static void ShowCount()\n",
    "    {\n",
    "        Console.WriteLine($\"Количество копибар: {Count}\\n\");\n",
    "    }\n",
    "}\n",
    "\n",
    "Copybara copybara = new Copybara(\"Арлен\", 4, \"35 кг\");\n",
    "copybara.Hello();\n",
    "copybara.WeightCopybara();\n",
    "copybara.Sound();\n",
    "Copybara.ShowCount();\n",
    "\n",
    "Copybara copybara2 = new Copybara(\"Рони\", 2, \"40 кг\");\n",
    "copybara2.Hello();\n",
    "copybara2.WeightCopybara();\n",
    "copybara2.Sound();\n",
    "Copybara.ShowCount();"
   ]
  }
 ],
 "metadata": {
  "kernelspec": {
   "display_name": ".NET (C#)",
   "language": "C#",
   "name": ".net-csharp"
  },
  "language_info": {
   "name": "python",
   "version": "3.12.2"
  },
  "polyglot_notebook": {
   "kernelInfo": {
    "defaultKernelName": "csharp",
    "items": [
     {
      "aliases": [],
      "name": "csharp"
     }
    ]
   }
  }
 },
 "nbformat": 4,
 "nbformat_minor": 2
}
