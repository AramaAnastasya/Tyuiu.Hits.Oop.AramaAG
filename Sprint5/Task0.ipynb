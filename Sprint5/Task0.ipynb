{
 "cells": [
  {
   "cell_type": "markdown",
   "metadata": {},
   "source": [
    "<h4 style=\"color:Red\">Задание:</h4>\n",
    "\n",
    "----\n",
    "\n",
    "Ниже в блоке по примеру создайте базовый класс Animal и производные классы (3-4 например Dog, Cat, Bird и так далее) реализуйте при помощи List и Dictionary."
   ]
  },
  {
   "cell_type": "code",
   "execution_count": null,
   "metadata": {
    "dotnet_interactive": {
     "language": "csharp"
    },
    "polyglot_notebook": {
     "kernelName": "csharp"
    },
    "vscode": {
     "languageId": "polyglot-notebook"
    }
   },
   "outputs": [
    {
     "name": "stdout",
     "output_type": "stream",
     "text": [
      "Имя: Бобик, Вид: Собака\n",
      "Порода: Дворняга\n",
      "\n",
      "Имя: Мурка, Вид: Кошка\n",
      "Домашняя: True\n",
      "\n",
      "Имя: Кеша, Вид: Попугай\n",
      "Цвет: Зеленый\n",
      "\n",
      "Найденное животное:\n",
      "Имя: Мурка, Вид: Кошка\n",
      "Домашняя: True\n"
     ]
    }
   ],
   "source": [
    "public class Animal\n",
    "{\n",
    "    public string Name { get; set; }\n",
    "    public string Species { get; set; }\n",
    "\n",
    "    public Animal(string name, string species)\n",
    "    {\n",
    "        Name = name;\n",
    "        Species = species;\n",
    "    }\n",
    "\n",
    "    public virtual void DisplayInfo()\n",
    "    {\n",
    "        Console.WriteLine($\"Имя: {Name}, Вид: {Species}\");\n",
    "    }\n",
    "}\n",
    "\n",
    "public class Dog : Animal\n",
    "{\n",
    "    public string Breed { get; set; }\n",
    "\n",
    "    public Dog(string name, string species, string breed)\n",
    "        : base(name, species)\n",
    "    {\n",
    "        Breed = breed;\n",
    "    }\n",
    "\n",
    "    public override void DisplayInfo()\n",
    "    {\n",
    "        base.DisplayInfo();\n",
    "        Console.WriteLine($\"Порода: {Breed}\");\n",
    "    }\n",
    "}\n",
    "\n",
    "public class Cat : Animal\n",
    "{\n",
    "    public bool IsIndoor { get; set; }\n",
    "\n",
    "    public Cat(string name, string species, bool isIndoor)\n",
    "        : base(name, species)\n",
    "    {\n",
    "        IsIndoor = isIndoor;\n",
    "    }\n",
    "\n",
    "    public override void DisplayInfo()\n",
    "    {\n",
    "        base.DisplayInfo();\n",
    "        Console.WriteLine($\"Домашняя: {IsIndoor}\");\n",
    "    }\n",
    "}\n",
    "\n",
    "public class Bird : Animal\n",
    "{\n",
    "    public string Color { get; set; }\n",
    "\n",
    "    public Bird(string name, string species, string color)\n",
    "        : base(name, species)\n",
    "    {\n",
    "        Color = color;\n",
    "    }\n",
    "\n",
    "    public override void DisplayInfo()\n",
    "    {\n",
    "        base.DisplayInfo();\n",
    "        Console.WriteLine($\"Цвет: {Color}\");\n",
    "    }\n",
    "}\n",
    "\n",
    "List<Animal> animalList = new List<Animal>();\n",
    "\n",
    "animalList.Add(new Dog(\"Бобик\", \"Собака\", \"Дворняга\"));\n",
    "animalList.Add(new Cat(\"Мурка\", \"Кошка\", true));\n",
    "animalList.Add(new Bird(\"Кеша\", \"Попугай\", \"Зеленый\"));\n",
    "\n",
    "foreach (var animal in animalList)\n",
    "{\n",
    "    animal.DisplayInfo();\n",
    "    Console.WriteLine();\n",
    "}\n",
    "\n",
    "Dictionary<string, Animal> animalDictionary = new Dictionary<string, Animal>();\n",
    "\n",
    "animalDictionary.Add(\"Бобик\", new Dog(\"Бобик\", \"Собака\", \"Дворняга\"));\n",
    "animalDictionary.Add(\"Мурка\", new Cat(\"Мурка\", \"Кошка\", true));\n",
    "animalDictionary.Add(\"Кеша\", new Bird(\"Кеша\", \"Попугай\", \"Зеленый\"));\n",
    "\n",
    "if (animalDictionary.TryGetValue(\"Мурка\", out Animal foundAnimal))\n",
    "{\n",
    "    Console.WriteLine(\"Найденное животное:\");\n",
    "    foundAnimal.DisplayInfo();\n",
    "}\n",
    "else\n",
    "{\n",
    "    Console.WriteLine(\"Животное не найдено\");\n",
    "}"
   ]
  }
 ],
 "metadata": {
  "kernelspec": {
   "display_name": ".NET (C#)",
   "language": "C#",
   "name": ".net-csharp"
  },
  "language_info": {
   "name": "python",
   "version": "3.12.2"
  },
  "polyglot_notebook": {
   "kernelInfo": {
    "defaultKernelName": "csharp",
    "items": [
     {
      "aliases": [],
      "name": "csharp"
     }
    ]
   }
  }
 },
 "nbformat": 4,
 "nbformat_minor": 2
}
