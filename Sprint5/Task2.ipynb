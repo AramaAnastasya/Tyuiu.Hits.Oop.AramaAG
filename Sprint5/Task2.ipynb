{
 "cells": [
  {
   "cell_type": "markdown",
   "metadata": {},
   "source": [
    "<h4 style=\"color:Red\">Задание:</h4>\n",
    "\n",
    "----\n",
    "\n",
    "Ниже в блоке по примеру создайте базовый класс Animal и производные классы (3-4 например Dog, Cat, Bird и так далее) с применением делегатов, лямда-выражений и событий."
   ]
  },
  {
   "cell_type": "code",
   "execution_count": 8,
   "metadata": {
    "dotnet_interactive": {
     "language": "csharp"
    },
    "polyglot_notebook": {
     "kernelName": "csharp"
    },
    "vscode": {
     "languageId": "polyglot-notebook"
    }
   },
   "outputs": [
    {
     "name": "stdout",
     "output_type": "stream",
     "text": [
      "Имя: Бобик, Вид: Собака\n",
      "Порода: Дворняга\n",
      "Имя: Мурка, Вид: Кошка\n",
      "Домашняя: True\n",
      "Имя: Кеша, Вид: Попугай\n",
      "Цвет: Зеленый\n",
      "---------------------------\n",
      "Имя: Бобик, Вид: Собака\n",
      "Порода: Дворняга\n",
      "Имя: Шарик, Вид: Собака\n",
      "Порода: Дворняга\n",
      "---------------------------\n",
      "Имя поменялось на Ласка\n",
      "Имя: Ласка, Вид: Кошка\n",
      "Домашняя: True\n"
     ]
    }
   ],
   "source": [
    "using System.Linq;\n",
    "public class Animal\n",
    "{\n",
    "    public string Name { get; set; }\n",
    "    public string Species { get; set; }\n",
    "\n",
    "    public delegate void AnimalHandler(string message);\n",
    "    public event AnimalHandler AnimalUpdated;\n",
    "\n",
    "    public Animal(string name, string species)\n",
    "    {\n",
    "        Name = name;\n",
    "        Species = species;\n",
    "    }\n",
    "\n",
    "    public void UpdateName(string newName)\n",
    "    {\n",
    "        Name = newName;\n",
    "        AnimalUpdated?.Invoke($\"Имя поменялось на {newName}\");\n",
    "    }\n",
    "\n",
    "    public virtual void DisplayInfo()\n",
    "    {\n",
    "        Console.WriteLine($\"Имя: {Name}, Вид: {Species}\");\n",
    "    }\n",
    "}\n",
    "\n",
    "public class Dog : Animal\n",
    "{\n",
    "    public string Breed { get; set; }\n",
    "\n",
    "    public Dog(string name, string species, string breed)\n",
    "        : base(name, species)\n",
    "    {\n",
    "        Breed = breed;\n",
    "    }\n",
    "\n",
    "    public override void DisplayInfo()\n",
    "    {\n",
    "        base.DisplayInfo();\n",
    "        Console.WriteLine($\"Порода: {Breed}\");\n",
    "    }\n",
    "}\n",
    "\n",
    "public class Cat : Animal\n",
    "{\n",
    "    public bool IsIndoor { get; set; }\n",
    "\n",
    "    public Cat(string name, string species, bool isIndoor)\n",
    "        : base(name, species)\n",
    "    {\n",
    "        IsIndoor = isIndoor;\n",
    "    }\n",
    "\n",
    "    public override void DisplayInfo()\n",
    "    {\n",
    "        base.DisplayInfo();\n",
    "        Console.WriteLine($\"Домашняя: {IsIndoor}\");\n",
    "    }\n",
    "}\n",
    "\n",
    "public class Bird : Animal\n",
    "{\n",
    "    public string Color { get; set; }\n",
    "\n",
    "    public Bird(string name, string species, string color)\n",
    "        : base(name, species)\n",
    "    {\n",
    "        Color = color;\n",
    "    }\n",
    "\n",
    "    public override void DisplayInfo()\n",
    "    {\n",
    "        base.DisplayInfo();\n",
    "        Console.WriteLine($\"Цвет: {Color}\");\n",
    "    }\n",
    "}\n",
    "\n",
    "public delegate void DisplayDelegate();\n",
    "\n",
    "Dog myDog = new Dog(\"Бобик\", \"Собака\", \"Дворняга\");\n",
    "Cat myCat = new Cat(\"Мурка\", \"Кошка\", true);\n",
    "Bird myBird = new Bird(\"Кеша\", \"Попугай\", \"Зеленый\");\n",
    "\n",
    "DisplayDelegate displayDog = myDog.DisplayInfo;\n",
    "DisplayDelegate displayCat = myCat.DisplayInfo;\n",
    "DisplayDelegate displayBird = myBird.DisplayInfo;\n",
    "\n",
    "displayDog();\n",
    "displayCat();\n",
    "displayBird();\n",
    "\n",
    "Console.WriteLine(\"---------------------------\");\n",
    "List<Animal> animals = new List<Animal>\n",
    "{\n",
    "    new Dog(\"Бобик\", \"Собака\", \"Дворняга\"),\n",
    "    new Cat(\"Мурка\", \"Кошка\", true),\n",
    "    new Bird(\"Кеша\", \"Попугай\", \"Зеленый\"),\n",
    "    new Dog(\"Шарик\", \"Собака\", \"Дворняга\"),\n",
    "};\n",
    "\n",
    "var dogs = animals.OfType<Dog>().Where(c => c.Breed == \"Дворняга\");\n",
    "\n",
    "foreach (var dog in dogs)\n",
    "{\n",
    "    dog.DisplayInfo();\n",
    "}\n",
    "\n",
    "Console.WriteLine(\"---------------------------\");\n",
    "\n",
    "myCat.AnimalUpdated += OnAnimalUpdated;\n",
    "myCat.UpdateName(\"Ласка\");\n",
    "\n",
    "static void OnAnimalUpdated(string message)\n",
    "{\n",
    "    Console.WriteLine(message);\n",
    "}\n",
    "\n",
    "DisplayDelegate displayCat2 = myCat.DisplayInfo;\n",
    "displayCat2();"
   ]
  }
 ],
 "metadata": {
  "kernelspec": {
   "display_name": ".NET (C#)",
   "language": "C#",
   "name": ".net-csharp"
  },
  "language_info": {
   "name": "python",
   "version": "3.12.2"
  },
  "polyglot_notebook": {
   "kernelInfo": {
    "defaultKernelName": "csharp",
    "items": [
     {
      "aliases": [],
      "name": "csharp"
     }
    ]
   }
  }
 },
 "nbformat": 4,
 "nbformat_minor": 2
}
