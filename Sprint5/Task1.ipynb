{
 "cells": [
  {
   "cell_type": "markdown",
   "metadata": {},
   "source": [
    "<h4 style=\"color:Red\">Задание:</h4>\n",
    "\n",
    "----\n",
    "\n",
    "Ниже в блоке по примеру создайте базовый класс Animal и производные классы (3-4 например Dog, Cat, Bird и так далее) реализуйте при помощи HashSet."
   ]
  },
  {
   "cell_type": "code",
   "execution_count": 6,
   "metadata": {
    "vscode": {
     "languageId": "polyglot-notebook"
    }
   },
   "outputs": [
    {
     "name": "stdout",
     "output_type": "stream",
     "text": [
      "Был ли добавлен дубликат? False\n",
      "Имя: Бобик, Вид: Собака\n",
      "Порода: Дворняга\n",
      "\n",
      "Имя: Мурка, Вид: Кошка\n",
      "Домашняя: True\n",
      "\n",
      "Имя: Кеша, Вид: Попугай\n",
      "Цвет: Зеленый\n",
      "\n"
     ]
    }
   ],
   "source": [
    "public class Animal\n",
    "{\n",
    "    public string Name { get; set; }\n",
    "    public string Species { get; set; }\n",
    "\n",
    "    public Animal(string name, string species)\n",
    "    {\n",
    "        Name = name;\n",
    "        Species = species;\n",
    "    }\n",
    "\n",
    "    public override bool Equals(object obj)\n",
    "    {\n",
    "        if (obj is Animal animal)\n",
    "        {\n",
    "            return Name == animal.Name && Species == animal.Species;\n",
    "        }\n",
    "        return false;\n",
    "    }\n",
    "\n",
    "    public override int GetHashCode()\n",
    "    {\n",
    "        return HashCode.Combine(Name, Species);\n",
    "    }\n",
    "\n",
    "    public virtual void DisplayInfo()\n",
    "    {\n",
    "        Console.WriteLine($\"Имя: {Name}, Вид: {Species}\");\n",
    "    }\n",
    "}\n",
    "\n",
    "public class Dog : Animal\n",
    "{\n",
    "    public string Breed { get; set; }\n",
    "\n",
    "    public Dog(string name, string species, string breed)\n",
    "        : base(name, species)\n",
    "    {\n",
    "        Breed = breed;\n",
    "    }\n",
    "\n",
    "    public override void DisplayInfo()\n",
    "    {\n",
    "        base.DisplayInfo();\n",
    "        Console.WriteLine($\"Порода: {Breed}\");\n",
    "    }\n",
    "}\n",
    "\n",
    "public class Cat : Animal\n",
    "{\n",
    "    public bool IsIndoor { get; set; }\n",
    "\n",
    "    public Cat(string name, string species, bool isIndoor)\n",
    "        : base(name, species)\n",
    "    {\n",
    "        IsIndoor = isIndoor;\n",
    "    }\n",
    "\n",
    "    public override void DisplayInfo()\n",
    "    {\n",
    "        base.DisplayInfo();\n",
    "        Console.WriteLine($\"Домашняя: {IsIndoor}\");\n",
    "    }\n",
    "}\n",
    "\n",
    "public class Bird : Animal\n",
    "{\n",
    "    public string Color { get; set; }\n",
    "\n",
    "    public Bird(string name, string species, string color)\n",
    "        : base(name, species)\n",
    "    {\n",
    "        Color = color;\n",
    "    }\n",
    "\n",
    "    public override void DisplayInfo()\n",
    "    {\n",
    "        base.DisplayInfo();\n",
    "        Console.WriteLine($\"Цвет: {Color}\");\n",
    "    }\n",
    "}\n",
    "\n",
    "\n",
    "HashSet<Animal> animalSet = new HashSet<Animal>();\n",
    "\n",
    "var animal1 = new Dog(\"Бобик\", \"Собака\", \"Дворняга\");\n",
    "var animal2 = new Cat(\"Мурка\", \"Кошка\", true);\n",
    "var animal3 = new Bird(\"Кеша\", \"Попугай\", \"Зеленый\");\n",
    "\n",
    "animalSet.Add(animal1);\n",
    "animalSet.Add(animal2);\n",
    "animalSet.Add(animal3);\n",
    "\n",
    "var duplicate = new Cat(\"Мурка\", \"Кошка\", true);\n",
    "bool isAdd = animalSet.Add(duplicate);\n",
    "\n",
    "Console.WriteLine($\"Был ли добавлен дубликат? {isAdd}\"); // false\n",
    "\n",
    "foreach (var transport in animalSet)\n",
    "{\n",
    "    transport.DisplayInfo();\n",
    "    Console.WriteLine();\n",
    "}"
   ]
  }
 ],
 "metadata": {
  "kernelspec": {
   "display_name": ".NET (C#)",
   "language": "C#",
   "name": ".net-csharp"
  },
  "language_info": {
   "name": "python",
   "version": "3.12.2"
  },
  "polyglot_notebook": {
   "kernelInfo": {
    "defaultKernelName": "csharp",
    "items": [
     {
      "aliases": [],
      "name": "csharp"
     }
    ]
   }
  }
 },
 "nbformat": 4,
 "nbformat_minor": 2
}
