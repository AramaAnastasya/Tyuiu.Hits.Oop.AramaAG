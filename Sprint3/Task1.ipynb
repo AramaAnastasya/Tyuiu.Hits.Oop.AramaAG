{
 "cells": [
  {
   "cell_type": "markdown",
   "metadata": {},
   "source": [
    "<h4 style=\"color:Red\">Задание:</h4>\n",
    "\n",
    "----\n",
    "\n",
    "Ниже в блоке по примеру создайте базовый класс Animal и производные классы (3-4 например Dog, Cat, Bird и так далее) реализуйте структуру и объявление класса, включая свойства, геттеры и сеттеры, а также используйте перекрытия и перегрузки методов."
   ]
  },
  {
   "cell_type": "code",
   "execution_count": 10,
   "metadata": {
    "dotnet_interactive": {
     "language": "csharp"
    },
    "polyglot_notebook": {
     "kernelName": "csharp"
    },
    "vscode": {
     "languageId": "polyglot-notebook"
    }
   },
   "outputs": [
    {
     "name": "stdout",
     "output_type": "stream",
     "text": [
      "Собака Дружок бегает по двору. Ей 2 лет.\n",
      "Кот Иннокентий спит на диване. Ему 3 лет.\n",
      "Голубь Дэйв летает над парком. Ему 4 лет.\n",
      "Собака Дружок бегает по двору.\n",
      "Кот Иннокентий спит в доме.\n",
      "Голубь Дэйв летает над парком.\n",
      "Голубь спит\n"
     ]
    }
   ],
   "source": [
    "// Базовый класс Animal\n",
    "public abstract class Animal\n",
    "{\n",
    "    private string name;\n",
    "    private double age;\n",
    "\n",
    "    public string Name\n",
    "    {\n",
    "        get { return name; }\n",
    "        set\n",
    "        {\n",
    "            if (!value.Any(char.IsDigit))\n",
    "                name = value;\n",
    "            else\n",
    "                throw new ArgumentOutOfRangeException(\"Имя не может содержать цифры.\");\n",
    "        }\n",
    "    }\n",
    "\n",
    "    public double Age\n",
    "    {\n",
    "        get { return age; }\n",
    "        set\n",
    "        {\n",
    "            if (value > 0)\n",
    "                age = value;\n",
    "            else\n",
    "                throw new ArgumentOutOfRangeException(\"Возраст не может быть меньше или равен нулю.\");\n",
    "        }\n",
    "    }\n",
    "\n",
    "    public Animal(string name, double age)\n",
    "    {\n",
    "        Name = name;\n",
    "        Age = age;\n",
    "    }\n",
    "\n",
    "    public virtual void GeneralAnimal()\n",
    "    {\n",
    "        Console.WriteLine($\"Животное зовут {Name}. Его возраст {Age} лет.\");\n",
    "    }\n",
    "}\n",
    "\n",
    "public class Dog : Animal\n",
    "{\n",
    "    public Dog(string name, double age) : base(name, age)\n",
    "    {\n",
    "    }\n",
    "\n",
    "    public override void GeneralAnimal()\n",
    "    {\n",
    "        Console.WriteLine($\"Собака {Name} бегает по двору. Ей {Age} лет.\");\n",
    "    }\n",
    "\n",
    "    public void Activity(string activ)\n",
    "    {\n",
    "        Console.WriteLine($\"Собака {Name} {activ} по двору.\");\n",
    "    }\n",
    "\n",
    "}\n",
    "\n",
    "public class Cat : Animal\n",
    "{\n",
    "    public Cat(string name, double age) : base(name, age)\n",
    "    {\n",
    "    }\n",
    "\n",
    "    public override void GeneralAnimal()\n",
    "    {\n",
    "        Console.WriteLine($\"Кот {Name} спит на диване. Ему {Age} лет.\");\n",
    "    }\n",
    "\n",
    "    public void Activity(string activ)\n",
    "    {\n",
    "        Console.WriteLine($\"Кот {Name} {activ} в доме.\");\n",
    "    }\n",
    "\n",
    "}\n",
    "\n",
    "public class Dave : Animal\n",
    "{\n",
    "    public Dave(string name, double age) : base(name, age)\n",
    "    {\n",
    "    }\n",
    "\n",
    "    public override void GeneralAnimal()\n",
    "    {\n",
    "        Console.WriteLine($\"Голубь {Name} летает над парком. Ему {Age} лет.\");\n",
    "    }\n",
    "\n",
    "    public void Activity(string activ)\n",
    "    {\n",
    "        Console.WriteLine($\"Голубь {Name} {activ} над парком.\");\n",
    "    }\n",
    "\n",
    "    public void Activity(bool isActiv)\n",
    "    {\n",
    "        if (isActiv)\n",
    "        {\n",
    "            Console.WriteLine(\"Голубь спит\");\n",
    "        }\n",
    "        else\n",
    "        {\n",
    "            Console.WriteLine(\"Голубь летает над парком.\");\n",
    "        }\n",
    "    }\n",
    "}\n",
    "\n",
    "Dog myDog = new Dog(\"Дружок\", 2);\n",
    "Cat myCat = new Cat(\"Иннокентий\", 3);\n",
    "Dave myDave = new Dave(\"Дэйв\", 4);\n",
    "\n",
    "myDog.GeneralAnimal();\n",
    "myCat.GeneralAnimal();\n",
    "myDave.GeneralAnimal();\n",
    "\n",
    "myDog.Activity(\"бегает\");\n",
    "\n",
    "myCat.Activity(\"спит\");\n",
    "\n",
    "myDave.Activity(\"летает\");\n",
    "myDave.Activity(true);"
   ]
  }
 ],
 "metadata": {
  "kernelspec": {
   "display_name": ".NET (C#)",
   "language": "C#",
   "name": ".net-csharp"
  },
  "language_info": {
   "name": "python"
  },
  "polyglot_notebook": {
   "kernelInfo": {
    "defaultKernelName": "csharp",
    "items": [
     {
      "aliases": [],
      "name": "csharp"
     }
    ]
   }
  }
 },
 "nbformat": 4,
 "nbformat_minor": 2
}
