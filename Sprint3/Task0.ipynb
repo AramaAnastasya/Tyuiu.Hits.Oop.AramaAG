{
 "cells": [
  {
   "cell_type": "markdown",
   "metadata": {},
   "source": [
    "<h4 style=\"color:Red\">Задание:</h4>\n",
    "\n",
    "----\n",
    "\n",
    "Ниже в блоке по примеру создайте базовый класс Animal и производные классы (3-4 например Dog, Cat, Bird и так далее) реализуйте структуру и объявление класса, включая свойства, геттеры и сеттеры, а также механизм полиморфизм."
   ]
  },
  {
   "cell_type": "code",
   "execution_count": 3,
   "metadata": {
    "dotnet_interactive": {
     "language": "csharp"
    },
    "polyglot_notebook": {
     "kernelName": "csharp"
    },
    "vscode": {
     "languageId": "polyglot-notebook"
    }
   },
   "outputs": [
    {
     "name": "stdout",
     "output_type": "stream",
     "text": [
      "Животное зовут Дружок. Возраст: 6 лет.\n",
      "Дружок собака породы овчарка.\n",
      "Животное зовут Иннокентий. Возраст: 5 лет.\n",
      "Иннокентий кот имеет серый цвет.\n",
      "Животное зовут Дэйв. Возраст: 3 лет.\n",
      "Дэйв птица имеет размах крыльев 120 см.\n"
     ]
    }
   ],
   "source": [
    "abstract public class Animal\n",
    "{\n",
    "    public string Name { get; set; }\n",
    "    public double Age { get; set; }\n",
    "\n",
    "    public Animal(string name, double age)\n",
    "    {\n",
    "        Name = name;\n",
    "        Age = age;\n",
    "    }\n",
    "\n",
    "    public virtual void GeneralAnimal()\n",
    "    {\n",
    "        Console.WriteLine($\"Животное зовут {Name}. Возраст: {Age} лет.\");\n",
    "    }\n",
    "}\n",
    "public class Cat : Animal\n",
    "{\n",
    "    public string Color { get; set; }\n",
    "\n",
    "    public Cat(string name, double age, string color) : base(name, age)\n",
    "    {\n",
    "        Color = color;\n",
    "    }\n",
    "\n",
    "    public override void GeneralAnimal()\n",
    "    {\n",
    "        base.GeneralAnimal();\n",
    "        Console.WriteLine($\"{Name} кот имеет {Color} цвет.\");\n",
    "    }\n",
    "}\n",
    "\n",
    "public class Dog : Animal\n",
    "{\n",
    "    public string Breed { get; set; }\n",
    "\n",
    "    public Dog(string name, double age, string breed) : base(name, age)\n",
    "    {\n",
    "        Breed = breed;\n",
    "    }\n",
    "\n",
    "    public override void GeneralAnimal()\n",
    "    {\n",
    "        base.GeneralAnimal();\n",
    "        Console.WriteLine($\"{Name} собака породы {Breed}.\");\n",
    "    }\n",
    "}\n",
    "\n",
    "public class Dave : Animal\n",
    "{\n",
    "    public double Wingspan { get; set; }\n",
    "\n",
    "    public Dave(string name, double age, double wingspan) : base(name, age)\n",
    "    {\n",
    "        Wingspan = wingspan;\n",
    "    }\n",
    "\n",
    "    public override void GeneralAnimal()\n",
    "    {\n",
    "        base.GeneralAnimal();\n",
    "        Console.WriteLine($\"{Name} птица имеет размах крыльев {Wingspan} см.\");\n",
    "    }\n",
    "}\n",
    "\n",
    "List<Animal> animals = new List<Animal>\n",
    "{\n",
    "    new Dog(\"Дружок\", 6, \"овчарка\"),\n",
    "    new Cat(\"Иннокентий\", 5, \"серый\"),\n",
    "    new Dave(\"Дэйв\", 3, 120),\n",
    "};\n",
    "\n",
    "foreach (var animal in animals)\n",
    "{\n",
    "    animal.GeneralAnimal();\n",
    "}"
   ]
  }
 ],
 "metadata": {
  "kernelspec": {
   "display_name": ".NET (C#)",
   "language": "C#",
   "name": ".net-csharp"
  },
  "language_info": {
   "name": "python",
   "version": "3.12.2"
  },
  "polyglot_notebook": {
   "kernelInfo": {
    "defaultKernelName": "csharp",
    "items": [
     {
      "aliases": [],
      "name": "csharp"
     }
    ]
   }
  }
 },
 "nbformat": 4,
 "nbformat_minor": 2
}
