{
 "cells": [
  {
   "cell_type": "markdown",
   "metadata": {},
   "source": [
    "<h4 style=\"color:Red\">Задание:</h4>\n",
    "\n",
    "----\n",
    "\n",
    "Ниже в блоке по примеру создайте базовый класс Animal и производные классы (3-4 например Dog, Cat, Bird и так далее) реализуйте структуру и объявление класса, включая свойства, геттеры и сеттеры, а также с пременением Generic классов."
   ]
  },
  {
   "cell_type": "code",
   "execution_count": 3,
   "metadata": {
    "vscode": {
     "languageId": "polyglot-notebook"
    }
   },
   "outputs": [
    {
     "name": "stdout",
     "output_type": "stream",
     "text": [
      "Собака Дружок бегает по двору.\n",
      "Кот Иннокентий спит на диване.\n",
      "Птица Дэйв летает над парком.\n"
     ]
    }
   ],
   "source": [
    "using System;\n",
    "using System.Collections.Generic;\n",
    "\n",
    "public abstract class Animal\n",
    "{\n",
    "    private string name;\n",
    "    private double age;\n",
    "\n",
    "    public string Name\n",
    "    {\n",
    "        get { return name; }\n",
    "        set\n",
    "        {\n",
    "            if (!value.Any(char.IsDigit))\n",
    "                name = value;\n",
    "            else\n",
    "                throw new ArgumentOutOfRangeException(\"Имя не может содержать цифры\");\n",
    "        }\n",
    "    }\n",
    "\n",
    "    public Animal(string name)\n",
    "    {\n",
    "        Name = name;\n",
    "    }\n",
    "\n",
    "    public virtual void GeneralAnimal()\n",
    "    {\n",
    "        Console.WriteLine($\"Животное зовут {Name}.\");\n",
    "    }\n",
    "}\n",
    "\n",
    "public class Dog : Animal\n",
    "{\n",
    "    public Dog(string name) : base(name)\n",
    "    {\n",
    "    }\n",
    "\n",
    "    public override void GeneralAnimal()\n",
    "    {\n",
    "        Console.WriteLine($\"Собака {Name} бегает по двору.\");\n",
    "    }\n",
    "}\n",
    "\n",
    "public class Cat : Animal\n",
    "{\n",
    "    public Cat(string name) : base(name)\n",
    "    {\n",
    "    }\n",
    "\n",
    "    public override void GeneralAnimal()\n",
    "    {\n",
    "        Console.WriteLine($\"Кот {Name} спит на диване.\");\n",
    "    }\n",
    "}\n",
    "\n",
    "public class Bird : Animal\n",
    "{\n",
    "    public Bird(string name) : base(name)\n",
    "    {\n",
    "    }\n",
    "\n",
    "    public override void GeneralAnimal()\n",
    "    {\n",
    "        Console.WriteLine($\"Птица {Name} летает над парком.\");\n",
    "    }\n",
    "}\n",
    "\n",
    "\n",
    "public class AnimalCollection<T> where T : Animal\n",
    "{\n",
    "    private List<T> _animals = new List<T>();\n",
    "\n",
    "    public void Add(T animal)\n",
    "    {\n",
    "        _animals.Add(animal);\n",
    "    }\n",
    "\n",
    "    public void Remove(T animal)\n",
    "    {\n",
    "        _animals.Remove(animal);\n",
    "    }\n",
    "\n",
    "    public void DisplayAnimals()\n",
    "    {\n",
    "        foreach (var animal in _animals)\n",
    "        {\n",
    "            animal.GeneralAnimal(); // Вызов метода GeneralAnimal() для каждого животного\n",
    "        }\n",
    "    }\n",
    "}\n",
    "\n",
    "\n",
    "AnimalCollection<Animal> animals = new AnimalCollection<Animal>();\n",
    "animals.Add(new Dog(\"Дружок\"));\n",
    "animals.Add(new Cat(\"Иннокентий\"));\n",
    "animals.Add(new Bird(\"Дэйв\"));\n",
    "\n",
    "animals.DisplayAnimals();"
   ]
  }
 ],
 "metadata": {
  "kernelspec": {
   "display_name": ".NET (C#)",
   "language": "C#",
   "name": ".net-csharp"
  },
  "language_info": {
   "name": "python"
  },
  "polyglot_notebook": {
   "kernelInfo": {
    "defaultKernelName": "csharp",
    "items": [
     {
      "aliases": [],
      "name": "csharp"
     }
    ]
   }
  }
 },
 "nbformat": 4,
 "nbformat_minor": 2
}
