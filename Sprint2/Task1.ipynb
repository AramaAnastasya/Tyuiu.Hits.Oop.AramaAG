{
 "cells": [
  {
   "cell_type": "markdown",
   "metadata": {},
   "source": [
    "<h4 style=\"color:Red\">Задание:</h4>\n",
    "\n",
    "----\n",
    "\n",
    "Ниже в блоке по примеру создайте базовый класс Animal и производные классы (3-4 например Dog, Cat, Bird и так далее) реализуйте структуру и объявление класса, включая свойства, геттеры и сеттеры, а также сложное наследование."
   ]
  },
  {
   "cell_type": "code",
   "execution_count": 8,
   "metadata": {
    "dotnet_interactive": {
     "language": "csharp"
    },
    "polyglot_notebook": {
     "kernelName": "csharp"
    },
    "vscode": {
     "languageId": "polyglot-notebook"
    }
   },
   "outputs": [
    {
     "name": "stdout",
     "output_type": "stream",
     "text": [
      "Имя: Кроко, Возраст: 5 лет\n",
      " Кроко не имеет мех\n",
      "Имя: Рёк, Возраст: 3 лет\n",
      "Рёк - птица и умеет летать\n",
      "Имя: Иса, Возраст: 2 лет\n",
      " Иса имеет мех\n",
      "Иса - летучая мышь с размахом крыльев: 40 см\n"
     ]
    }
   ],
   "source": [
    "public class Animal\n",
    "{\n",
    "    public string Name { get; set; }\n",
    "    public double Age { get; set; }\n",
    "\n",
    "    public Animal(string name, double age)\n",
    "    {\n",
    "        Name = name;\n",
    "        Age = age;\n",
    "    }\n",
    "\n",
    "    public virtual void DisplayInfo()\n",
    "    {\n",
    "        Console.WriteLine($\"Имя: {Name}, Возраст: {Age} лет\");\n",
    "    }\n",
    "}\n",
    "public class Fur : Animal\n",
    "{\n",
    "    public bool HasFur { get; set; }\n",
    "\n",
    "    public Fur(string name, double age, bool hasFur) : base(name, age)\n",
    "    {\n",
    "        HasFur = hasFur;\n",
    "    }\n",
    "\n",
    "    public override void DisplayInfo()\n",
    "    {\n",
    "        base.DisplayInfo();\n",
    "        string hasFur = HasFur == true ? \"имеет мех\" : \"не имеет мех\"; \n",
    "        Console.WriteLine($\" {Name} {hasFur}\");\n",
    "    }\n",
    "}\n",
    "public class Bird : Animal\n",
    "{\n",
    "    public bool CanFly { get; set; }\n",
    "\n",
    "    public Bird(string name, double age, bool canFly) : base(name, age)\n",
    "    {\n",
    "        CanFly = canFly;\n",
    "    }\n",
    "\n",
    "    public override void DisplayInfo()\n",
    "    {\n",
    "        base.DisplayInfo();\n",
    "        Console.WriteLine($\"{Name} - птица и умеет летать\");\n",
    "    }\n",
    "}\n",
    "public class Bat : Fur\n",
    "{\n",
    "    public double Wingspan { get; set; }\n",
    "\n",
    "    public Bat(string name, double age, bool hasFur, double wingspan) \n",
    "        : base(name, age, hasFur)\n",
    "    {\n",
    "        Wingspan = wingspan;\n",
    "    }\n",
    "\n",
    "    public override void DisplayInfo()\n",
    "    {\n",
    "        base.DisplayInfo();\n",
    "        Console.WriteLine($\"{Name} - летучая мышь с размахом крыльев: {Wingspan} см\");\n",
    "    }\n",
    "}\n",
    "Fur myFur = new Fur(\"Кроко\", 5, false);\n",
    "myFur.DisplayInfo();\n",
    "Bird myBird = new Bird(\"Рёк\", 3, true);\n",
    "myBird.DisplayInfo();\n",
    "Bat myBat = new Bat(\"Иса\", 2, true, 40);\n",
    "myBat.DisplayInfo();"
   ]
  }
 ],
 "metadata": {
  "kernelspec": {
   "display_name": ".NET (C#)",
   "language": "C#",
   "name": ".net-csharp"
  },
  "language_info": {
   "name": "python"
  },
  "polyglot_notebook": {
   "kernelInfo": {
    "defaultKernelName": "csharp",
    "items": [
     {
      "aliases": [],
      "name": "csharp"
     }
    ]
   }
  }
 },
 "nbformat": 4,
 "nbformat_minor": 2
}
