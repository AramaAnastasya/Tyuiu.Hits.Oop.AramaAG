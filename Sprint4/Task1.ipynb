{
 "cells": [
  {
   "cell_type": "markdown",
   "metadata": {},
   "source": [
    "<h4 style=\"color:Red\">Задание:</h4>\n",
    "\n",
    "----\n",
    "\n",
    "Ниже в блоке по примеру создайте базовый класс Animal и производные классы (3-4 например Dog, Cat, Bird и так далее) реализуйте структуру и объявление класса, включая свойства, геттеры и сеттеры, а также применить явнаю реализацию интерфейса."
   ]
  },
  {
   "cell_type": "code",
   "execution_count": 9,
   "metadata": {
    "dotnet_interactive": {
     "language": "csharp"
    },
    "polyglot_notebook": {
     "kernelName": "csharp"
    },
    "vscode": {
     "languageId": "polyglot-notebook"
    }
   },
   "outputs": [
    {
     "name": "stdout",
     "output_type": "stream",
     "text": [
      "Кот Иося кушает.\n",
      "Иося мяукает.\n",
      "Иося весит 1 кг.\n",
      "Текущий вес: 1 кг\n",
      "\n",
      "Собака Иннокентий кушает.\n",
      "Иннокентий лает.\n",
      "Иннокентий весит 3 кг.\n",
      "Текущий вес: 3 кг\n"
     ]
    }
   ],
   "source": [
    "public interface IAnimal\n",
    "{\n",
    "    void voiceAnimal();\n",
    "    void eatAnimal();\n",
    "    int weightAnimal();\n",
    "}\n",
    "public abstract class Animal : IAnimal\n",
    "{\n",
    "    public string Name { get; set; }\n",
    "    protected int weight;\n",
    "\n",
    "    public abstract void voiceAnimal();\n",
    "    public abstract void eatAnimal();\n",
    "    public virtual int weightAnimal()\n",
    "    {\n",
    "        return weight;\n",
    "    }\n",
    "}\n",
    "public class Cat : Animal\n",
    "{\n",
    "    public override void eatAnimal()\n",
    "    {\n",
    "        Console.WriteLine($\"Кот {Name} кушает.\");\n",
    "    }\n",
    "\n",
    "    public override void voiceAnimal()\n",
    "    {\n",
    "        Console.WriteLine($\"{Name} мяукает.\");\n",
    "    }\n",
    "\n",
    "    public void Weight(int kg)\n",
    "    {\n",
    "        weight += kg;\n",
    "        Console.WriteLine($\"{Name} весит {weight} кг.\");\n",
    "    }\n",
    "}\n",
    "public class Dog : Animal\n",
    "{\n",
    "    public override void eatAnimal()\n",
    "    {\n",
    "        Console.WriteLine($\"Собака {Name} кушает.\");\n",
    "    }\n",
    "\n",
    "    public override void voiceAnimal()\n",
    "    {\n",
    "        Console.WriteLine($\"{Name} лает.\");\n",
    "    }\n",
    "\n",
    "    public void Weight(int kg)\n",
    "    {\n",
    "        weight += kg;\n",
    "        Console.WriteLine($\"{Name} весит {weight} кг.\");\n",
    "    }\n",
    "}\n",
    "IAnimal myCat = new Cat { Name = \"Иося\" };\n",
    "myCat.eatAnimal();\n",
    "myCat.voiceAnimal();\n",
    "((Cat)myCat).Weight(1);\n",
    "Console.WriteLine($\"Текущий вес: {myCat.weightAnimal()} кг\");\n",
    "Console.WriteLine();\n",
    "IAnimal myDog = new Dog {Name = \"Иннокентий\" };\n",
    "myDog.eatAnimal();\n",
    "myDog.voiceAnimal();\n",
    "((Dog)myDog).Weight(3);\n",
    "Console.WriteLine($\"Текущий вес: {myDog.weightAnimal()} кг\");"
   ]
  },
  {
   "cell_type": "code",
   "execution_count": null,
   "metadata": {
    "vscode": {
     "languageId": "polyglot-notebook"
    }
   },
   "outputs": [],
   "source": []
  }
 ],
 "metadata": {
  "kernelspec": {
   "display_name": ".NET (C#)",
   "language": "C#",
   "name": ".net-csharp"
  },
  "language_info": {
   "name": "python"
  },
  "polyglot_notebook": {
   "kernelInfo": {
    "defaultKernelName": "csharp",
    "items": [
     {
      "aliases": [],
      "name": "csharp"
     }
    ]
   }
  }
 },
 "nbformat": 4,
 "nbformat_minor": 2
}
