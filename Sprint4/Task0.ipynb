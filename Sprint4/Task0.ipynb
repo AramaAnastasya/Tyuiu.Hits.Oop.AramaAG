{
 "cells": [
  {
   "cell_type": "markdown",
   "metadata": {},
   "source": [
    "<h4 style=\"color:Red\">Задание:</h4>\n",
    "\n",
    "----\n",
    "\n",
    "Ниже в блоке по примеру создайте базовый класс Animal и производные классы (3-4 например Dog, Cat, Bird и так далее) реализуйте структуру и объявление класса, включая свойства, геттеры и сеттеры, а также наследование с применением интерфейсов."
   ]
  },
  {
   "cell_type": "code",
   "execution_count": 4,
   "metadata": {
    "dotnet_interactive": {
     "language": "csharp"
    },
    "polyglot_notebook": {
     "kernelName": "csharp"
    },
    "vscode": {
     "languageId": "polyglot-notebook"
    }
   },
   "outputs": [
    {
     "name": "stdout",
     "output_type": "stream",
     "text": [
      "Животное Иосиф ест.\n",
      "Собака Иосиф ест корм.\n",
      "Иосиф лает.\n",
      "Иосиф приносит палку.\n",
      "Состояние Иосифа: бодрствует\n",
      "\n",
      "Животное Иннокнтий ест.\n",
      "Кошка Иннокнтий ест рыбу.\n",
      "Иннокнтий мяукает.\n",
      "Иннокнтий мурлычет.\n",
      "Состояние Иннокентия: бодрствует\n",
      "\n",
      "Животное Иосиф спит.\n",
      "Собака Иосиф крепко спит.\n",
      "Животное Иннокнтий спит.\n",
      "Коn Иннокнтий сонно потягивается.\n",
      "\n",
      "Состояние Иосифа: спит\n",
      "Состояние Иннокентия: спит\n"
     ]
    }
   ],
   "source": [
    "public interface IAnimal\n",
    "{\n",
    "    void Eat();\n",
    "    void Sleep();\n",
    "    void MakeSound();\n",
    "    string GetStatus();\n",
    "}\n",
    "\n",
    "public abstract class Animal : IAnimal\n",
    "{\n",
    "    public string Name { get; set; }\n",
    "    public int Age { get; set; }\n",
    "    protected bool isSleeping;\n",
    "\n",
    "    public virtual void Eat()\n",
    "    {\n",
    "        Console.WriteLine($\"Животное {Name} ест.\");\n",
    "    }\n",
    "\n",
    "    public virtual void Sleep()\n",
    "    {\n",
    "        isSleeping = true;\n",
    "        Console.WriteLine($\"Животное {Name} спит.\");\n",
    "    }\n",
    "\n",
    "    public virtual void MakeSound()\n",
    "    {\n",
    "        if (isSleeping)\n",
    "        {\n",
    "            Console.WriteLine($\"Животное {Name} спит и не может издавать звуки.\");\n",
    "        }\n",
    "        else\n",
    "        {\n",
    "            Console.WriteLine($\"Животное {Name} издает звук.\");\n",
    "        }\n",
    "    }\n",
    "\n",
    "    public string GetStatus()\n",
    "    {\n",
    "        return isSleeping ? \"спит\" : \"бодрствует\";\n",
    "    }\n",
    "}\n",
    "\n",
    "public class Dog : Animal\n",
    "{\n",
    "    public override void Eat()\n",
    "    {\n",
    "        base.Eat();\n",
    "        Console.WriteLine($\"Собака {Name} ест корм.\");\n",
    "    }\n",
    "\n",
    "    public override void Sleep()\n",
    "    {\n",
    "        base.Sleep();\n",
    "        Console.WriteLine($\"Собака {Name} крепко спит.\");\n",
    "    }\n",
    "\n",
    "    public override void MakeSound()\n",
    "    {\n",
    "        if (isSleeping)\n",
    "        {\n",
    "            Console.WriteLine($\"{Name} спит и не может лаять.\");\n",
    "        }\n",
    "        else\n",
    "        {\n",
    "            Console.WriteLine($\"{Name} лает.\");\n",
    "        }\n",
    "    }\n",
    "\n",
    "    public void Fetch()\n",
    "    {\n",
    "        Console.WriteLine($\"{Name} приносит палку.\");\n",
    "    }\n",
    "}\n",
    "public class Cat : Animal\n",
    "{\n",
    "    public override void Eat()\n",
    "    {\n",
    "        base.Eat();\n",
    "        Console.WriteLine($\"Кошка {Name} ест рыбу.\");\n",
    "    }\n",
    "\n",
    "    public override void Sleep()\n",
    "    {\n",
    "        base.Sleep();\n",
    "        Console.WriteLine($\"Коn {Name} сонно потягивается.\");\n",
    "    }\n",
    "\n",
    "    public override void MakeSound()\n",
    "    {\n",
    "        if (isSleeping)\n",
    "        {\n",
    "            Console.WriteLine($\"{Name} спит и не может мяукать.\");\n",
    "        }\n",
    "        else\n",
    "        {\n",
    "            Console.WriteLine($\"{Name} мяукает.\");\n",
    "        }\n",
    "    }\n",
    "\n",
    "    public void Purr()\n",
    "    {\n",
    "        Console.WriteLine($\"{Name} мурлычет.\");\n",
    "    }\n",
    "}\n",
    "IAnimal myDog = new Dog { Name = \"Иосиф\", Age = 3};\n",
    "myDog.Eat();\n",
    "myDog.MakeSound();\n",
    "((Dog)myDog).Fetch();\n",
    "Console.WriteLine($\"Состояние Иосифа: {myDog.GetStatus()}\");\n",
    "Console.WriteLine();\n",
    "\n",
    "IAnimal myCat = new Cat { Name = \"Иннокнтий\", Age = 2};\n",
    "myCat.Eat();\n",
    "myCat.MakeSound();\n",
    "((Cat)myCat).Purr();\n",
    "Console.WriteLine($\"Состояние Иннокентия: {myCat.GetStatus()}\");\n",
    "Console.WriteLine();\n",
    "\n",
    "myDog.Sleep();\n",
    "myCat.Sleep();\n",
    "Console.WriteLine();\n",
    "\n",
    "Console.WriteLine($\"Состояние Иосифа: {myDog.GetStatus()}\");\n",
    "Console.WriteLine($\"Состояние Иннокентия: {myCat.GetStatus()}\");"
   ]
  }
 ],
 "metadata": {
  "kernelspec": {
   "display_name": ".NET (C#)",
   "language": "C#",
   "name": ".net-csharp"
  },
  "language_info": {
   "name": "python",
   "version": "3.12.2"
  },
  "polyglot_notebook": {
   "kernelInfo": {
    "defaultKernelName": "csharp",
    "items": [
     {
      "aliases": [],
      "name": "csharp"
     }
    ]
   }
  }
 },
 "nbformat": 4,
 "nbformat_minor": 2
}
