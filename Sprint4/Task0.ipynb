{
 "cells": [
  {
   "cell_type": "markdown",
   "metadata": {},
   "source": [
    "<h4 style=\"color:Red\">Задание:</h4>\n",
    "\n",
    "----\n",
    "\n",
    "Ниже в блоке по примеру создайте базовый класс Animal и производные классы (3-4 например Dog, Cat, Bird и так далее) реализуйте структуру и объявление класса, включая свойства, геттеры и сеттеры, а также механизм полиморфизм."
   ]
  },
  {
   "cell_type": "code",
   "execution_count": 4,
   "metadata": {
    "dotnet_interactive": {
     "language": "csharp"
    },
    "polyglot_notebook": {
     "kernelName": "csharp"
    },
    "vscode": {
     "languageId": "polyglot-notebook"
    }
   },
   "outputs": [
    {
     "name": "stdout",
     "output_type": "stream",
     "text": [
      "Животное Бобик ест.\n",
      "Собака Бобик ест корм.\n",
      "Бобик лает.\n",
      "Бобик приносит палку.\n",
      "Состояние Бобика: бодрствует\n",
      "Животное Мурка ест.\n",
      "Кошка Мурка ест рыбу.\n",
      "Мурка мяукает.\n",
      "Мурка мурлычет.\n",
      "Состояние Мурки: бодрствует\n",
      "Бобик спит.\n",
      "Собака Бобик крепко спит.\n",
      "Мурка спит.\n",
      "Кошка Мурка сонно потягивается.\n",
      "Состояние Бобика: спит\n",
      "Состояние Мурки: спит\n"
     ]
    }
   ],
   "source": [
    "public interface IAnimal\n",
    "{\n",
    "    void Eat();\n",
    "    void Sleep();\n",
    "    void MakeSound();\n",
    "    string GetStatus();\n",
    "}\n",
    "\n",
    "public abstract class Animal : IAnimal\n",
    "{\n",
    "    public string Name { get; set; }\n",
    "    public int Age { get; set; }\n",
    "    protected bool isSleeping;\n",
    "\n",
    "    public virtual void Eat()\n",
    "    {\n",
    "        Console.WriteLine($\"Животное {Name} ест.\");\n",
    "    }\n",
    "\n",
    "    public virtual void Sleep()\n",
    "    {\n",
    "        isSleeping = true;\n",
    "        Console.WriteLine($\"{Name} спит.\");\n",
    "    }\n",
    "\n",
    "    public virtual void MakeSound()\n",
    "    {\n",
    "        if (isSleeping)\n",
    "        {\n",
    "            Console.WriteLine($\"{Name} спит и не может издавать звуки.\");\n",
    "        }\n",
    "        else\n",
    "        {\n",
    "            Console.WriteLine($\"{Name} издает звук.\");\n",
    "        }\n",
    "    }\n",
    "\n",
    "    public string GetStatus()\n",
    "    {\n",
    "        return isSleeping ? \"спит\" : \"бодрствует\";\n",
    "    }\n",
    "}\n",
    "\n",
    "public class Dog : Animal\n",
    "{\n",
    "    public string Breed { get; set; }\n",
    "\n",
    "    public override void Eat()\n",
    "    {\n",
    "        base.Eat();\n",
    "        Console.WriteLine($\"Собака {Name} ест корм.\");\n",
    "    }\n",
    "\n",
    "    public override void Sleep()\n",
    "    {\n",
    "        base.Sleep();\n",
    "        Console.WriteLine($\"Собака {Name} крепко спит.\");\n",
    "    }\n",
    "\n",
    "    public override void MakeSound()\n",
    "    {\n",
    "        if (isSleeping)\n",
    "        {\n",
    "            Console.WriteLine($\"{Name} спит и не может лаять.\");\n",
    "        }\n",
    "        else\n",
    "        {\n",
    "            Console.WriteLine($\"{Name} лает.\");\n",
    "        }\n",
    "    }\n",
    "\n",
    "    public void Fetch()\n",
    "    {\n",
    "        Console.WriteLine($\"{Name} приносит палку.\");\n",
    "    }\n",
    "}\n",
    "public class Cat : Animal\n",
    "{\n",
    "    public string FurColor { get; set; }\n",
    "\n",
    "    public override void Eat()\n",
    "    {\n",
    "        base.Eat();\n",
    "        Console.WriteLine($\"Кошка {Name} ест рыбу.\");\n",
    "    }\n",
    "\n",
    "    public override void Sleep()\n",
    "    {\n",
    "        base.Sleep();\n",
    "        Console.WriteLine($\"Кошка {Name} сонно потягивается.\");\n",
    "    }\n",
    "\n",
    "    public override void MakeSound()\n",
    "    {\n",
    "        if (isSleeping)\n",
    "        {\n",
    "            Console.WriteLine($\"{Name} спит и не может мяукать.\");\n",
    "        }\n",
    "        else\n",
    "        {\n",
    "            Console.WriteLine($\"{Name} мяукает.\");\n",
    "        }\n",
    "    }\n",
    "\n",
    "    public void Purr()\n",
    "    {\n",
    "        Console.WriteLine($\"{Name} мурлычет.\");\n",
    "    }\n",
    "}\n",
    "IAnimal myDog = new Dog { Name = \"Бобик\", Age = 3, Breed = \"Дворняжка\" };\n",
    "myDog.Eat();\n",
    "myDog.MakeSound();\n",
    "((Dog)myDog).Fetch();\n",
    "Console.WriteLine($\"Состояние Бобика: {myDog.GetStatus()}\");\n",
    "\n",
    "IAnimal myCat = new Cat { Name = \"Мурка\", Age = 2, FurColor = \"Серый\" };\n",
    "myCat.Eat();\n",
    "myCat.MakeSound();\n",
    "((Cat)myCat).Purr();\n",
    "Console.WriteLine($\"Состояние Мурки: {myCat.GetStatus()}\");\n",
    "\n",
    "// Попробуем уложить животных спать\n",
    "myDog.Sleep();\n",
    "myCat.Sleep();\n",
    "\n",
    "Console.WriteLine($\"Состояние Бобика: {myDog.GetStatus()}\");\n",
    "Console.WriteLine($\"Состояние Мурки: {myCat.GetStatus()}\");"
   ]
  }
 ],
 "metadata": {
  "kernelspec": {
   "display_name": ".NET (C#)",
   "language": "C#",
   "name": ".net-csharp"
  },
  "language_info": {
   "name": "python",
   "version": "3.12.2"
  },
  "polyglot_notebook": {
   "kernelInfo": {
    "defaultKernelName": "csharp",
    "items": [
     {
      "aliases": [],
      "name": "csharp"
     }
    ]
   }
  }
 },
 "nbformat": 4,
 "nbformat_minor": 2
}
