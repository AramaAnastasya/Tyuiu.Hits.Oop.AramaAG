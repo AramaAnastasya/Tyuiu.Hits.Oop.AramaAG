{
 "cells": [
  {
   "cell_type": "markdown",
   "metadata": {},
   "source": [
    "<h4 style=\"color:Red\">Задание:</h4>\n",
    "\n",
    "----\n",
    "\n",
    "Ниже в блоке по примеру создайте базовый класс Animal и производные классы (3-4 например Dog, Cat, Bird и так далее) реализуйте структуру и объявление класса, включая свойства, геттеры и сеттеры, а также реализовать управление зависимостями."
   ]
  },
  {
   "cell_type": "code",
   "execution_count": null,
   "metadata": {
    "dotnet_interactive": {
     "language": "csharp"
    },
    "polyglot_notebook": {
     "kernelName": "csharp"
    },
    "vscode": {
     "languageId": "polyglot-notebook"
    }
   },
   "outputs": [
    {
     "name": "stdout",
     "output_type": "stream",
     "text": [
      "Кошка мяукает.\n",
      "Это животное весит 5 кг.\n",
      "Кот пьёт молоко.\n",
      "Собака лает.\n",
      "Это животное весит 10 кг.\n",
      "Собака играет с костью.\n"
     ]
    }
   ],
   "source": [
    "public interface IAnimal\n",
    "{\n",
    "    void voiceAnimal();\n",
    "    void activityAnimal();\n",
    "    int weightAnimal();\n",
    "}\n",
    "public class AnimalInfo\n",
    "{\n",
    "    private readonly IAnimal _animal;\n",
    "\n",
    "    public AnimalInfo(IAnimal animal)\n",
    "    {\n",
    "        _animal = animal; \n",
    "    }\n",
    "\n",
    "    public void UseAnimal()\n",
    "    {\n",
    "        _animal.voiceAnimal(); \n",
    "        Console.WriteLine($\"Животное весит {_animal.weightAnimal()} кг.\");\n",
    "        _animal.activityAnimal(); \n",
    "    }\n",
    "}\n",
    "public class Cat : IAnimal\n",
    "{\n",
    "    private int weight = 5;\n",
    "\n",
    "    public void voiceAnimal()\n",
    "    {\n",
    "        Console.WriteLine($\"Кошка мяукает.\");\n",
    "    }\n",
    "\n",
    "    public void activityAnimal()\n",
    "    {\n",
    "        Console.WriteLine($\"Кот пьёт молоко.\");\n",
    "    }\n",
    "\n",
    "    public int weightAnimal()\n",
    "    {\n",
    "        return weight;\n",
    "    }\n",
    "}\n",
    "public class Dog : IAnimal\n",
    "{\n",
    "    private int weight = 10;\n",
    "\n",
    "    public void activityAnimal()\n",
    "    {\n",
    "        Console.WriteLine($\"Собака играет с костью.\");\n",
    "    }\n",
    "\n",
    "    public void voiceAnimal()\n",
    "    {\n",
    "        Console.WriteLine($\"Собака лает.\");\n",
    "    }\n",
    "\n",
    "    public int weightAnimal()\n",
    "    {\n",
    "        return weight;\n",
    "    }\n",
    "}\n",
    "IAnimal myCat = new Cat();\n",
    "AnimalInfo catInfo = new AnimalInfo(myCat);\n",
    "catInfo.UseAnimal();\n",
    "\n",
    "IAnimal myDog = new Dog();\n",
    "AnimalInfo dogInfo = new AnimalInfo(myDog);\n",
    "dogInfo.UseAnimal();"
   ]
  },
  {
   "cell_type": "code",
   "execution_count": null,
   "metadata": {
    "dotnet_interactive": {
     "language": "csharp"
    },
    "polyglot_notebook": {
     "kernelName": "csharp"
    },
    "vscode": {
     "languageId": "polyglot-notebook"
    }
   },
   "outputs": [],
   "source": []
  }
 ],
 "metadata": {
  "kernelspec": {
   "display_name": ".NET (C#)",
   "language": "C#",
   "name": ".net-csharp"
  },
  "language_info": {
   "name": "python"
  },
  "polyglot_notebook": {
   "kernelInfo": {
    "defaultKernelName": "csharp",
    "items": [
     {
      "aliases": [],
      "name": "csharp"
     }
    ]
   }
  }
 },
 "nbformat": 4,
 "nbformat_minor": 2
}
