{
 "cells": [
  {
   "cell_type": "markdown",
   "metadata": {},
   "source": [
    "<h1 style=\"color:DodgerBlue\">Индивидальный проект</h1>"
   ]
  },
  {
   "cell_type": "markdown",
   "metadata": {},
   "source": [
    "<h2 style=\"color:DodgerBlue\">Название проекта:</h2>\n",
    "\n",
    "----\n",
    "\n",
    "### Вариант задания 1\n"
   ]
  },
  {
   "cell_type": "markdown",
   "metadata": {},
   "source": [
    "<h2 style=\"color:DodgerBlue\">Описание проекта:</h2>\n",
    "\n",
    "----\n",
    "\n",
    "<b>Описание задачи:</b>\n",
    "Создать базовый класс Person в C#, который будет представлять информацию о человеке. На основе этого класса разработать 2-3 производных класса, демонстрирующих принципы наследования и полиморфизма. В каждом из классов должны быть реализованы новые атрибуты и методы, а также переопределены некоторые методы базового класса для демонстрации полиморфизма.\n",
    "<br><b>Tребования к базовому классу Person:</b>\n",
    "<br>• Атрибуты: Имя (Name), Возраст (Age), Пол (Gender).\n",
    "<br>• Методы:\n",
    "o GetInfo(): метод для получения информации о человеке в виде строки.\n",
    "o SayHello(): метод для вывода приветствия от человека.\n",
    "<br><b>Требования к производным классам:</b>\n",
    "1. Студент (Student): Должен содержать дополнительные атрибуты, такие как\n",
    "Университет (University) и Курс (Course). Метод SayHello() должен быть\n",
    "переопределен для добавления информации о курсе при приветствии.\n",
    "2. Работник (Employee): Должен содержать дополнительные атрибуты, такие\n",
    "как Компания (Company) и Зарплата (Salary). Метод GetInfo() должен быть\n",
    "переопределен для включения информации о компании и зарплате.\n",
    "3. Преподаватель (Teacher) (если требуется третий класс): Должен содержать\n",
    "дополнительные атрибуты, такие как Предмет (Subject) и Стаж работы\n",
    "(Experience). Метод SayHello() должен быть переопределен для добавления\n",
    "информации о преподаваемом предмете при приветствии.\n",
    "\n"
   ]
  },
  {
   "cell_type": "markdown",
   "metadata": {},
   "source": [
    "<h2 style=\"color:DodgerBlue\">Реализация:</h2>\n",
    "\n",
    "----"
   ]
  },
  {
   "cell_type": "code",
   "execution_count": 26,
   "metadata": {},
   "outputs": [
    {
     "name": "stdout",
     "output_type": "stream",
     "text": [
      "Получение информации:\n",
      "Имя: Василина\n",
      "Возраст: 35\n",
      "Пол: Женщина\n",
      "\n",
      "Привет! Я - Женщина. Меня зовут Василина и мне 35\n",
      "\n",
      "Привет! Меня зовут Ярослава и мне 22. Я Женщина, учусь в университете ТИУ на 2 курсе\n",
      "\n",
      "Я, Ярослава, я рассчитала мой средний балл: 76,7\n",
      "\n",
      "Получение информации:\n",
      "Имя: Юрий\n",
      "Возраст: 56\n",
      "Пол: Мужчина\n",
      "Компания: Газпром\n",
      "Зарплата: 57 000р\n",
      "\n",
      "Привет! Меня зовут Алексей мне 40. Я веду предмет Базы данных со стажем работы: 10\n"
     ]
    }
   ],
   "source": [
    "public class Person\n",
    "{\n",
    "    public string Name { get; set; }\n",
    "    public int Age { get; set; }\n",
    "    public string Gender { get; set; }\n",
    "\n",
    "    public Person(string name, int age, string gender)\n",
    "    {\n",
    "        Name = name;\n",
    "        Age = age;\n",
    "        Gender = gender;\n",
    "    }\n",
    "\n",
    "    public virtual void SayHello()\n",
    "    {\n",
    "        Console.WriteLine($\"Привет! Я - {Gender}. Меня зовут {Name} и мне {Age}\\n\");\n",
    "    }\n",
    "    public virtual void GetInfo()\n",
    "    {\n",
    "        Console.WriteLine($\"Получение информации:\\nИмя: {Name}\\nВозраст: {Age}\\nПол: {Gender}\\n\");\n",
    "    }\n",
    "}\n",
    "class Student : Person\n",
    "{\n",
    "    public string University { get; set; }\n",
    "    public int Course { get; set; }\n",
    "    public double GPA { get; set; }\n",
    "\n",
    "    public Student(string name, int age, string gender, string university, int course, double gpa)\n",
    "        : base(name, age, gender)\n",
    "    {\n",
    "        University = university;\n",
    "        Course = course;\n",
    "        GPA = gpa;\n",
    "\n",
    "    }\n",
    "\n",
    "    public override void SayHello()\n",
    "    {\n",
    "        Console.WriteLine($\"Привет! Меня зовут {Name} и мне {Age}. Я {Gender}, учусь в университете {University} на {Course} курсе\\n\");\n",
    "    }\n",
    "\n",
    "    public void CalculateGPA()\n",
    "    {\n",
    "        Console.WriteLine($\"Я, {Name}, я рассчитала мой средний балл: {GPA}\\n\");\n",
    "    }\n",
    "\n",
    "}\n",
    " public class Employee : Person\n",
    "{\n",
    "    public string Company { get; set; }\n",
    "    public string Salary { get; set; }\n",
    "\n",
    "    public Employee(string name, int age, string gender, string company, string salary)\n",
    "        : base(name, age, gender)\n",
    "    {\n",
    "        Company = company;\n",
    "        Salary = salary;\n",
    "    }\n",
    "\n",
    "    public override void GetInfo()\n",
    "    {\n",
    "        Console.WriteLine($\"Получение информации:\\nИмя: {Name}\\nВозраст: {Age}\\nПол: {Gender}\\nКомпания: {Company}\\nЗарплата: {Salary}р\\n\");\n",
    "    }\n",
    "}\n",
    "\n",
    "public class Teacher : Person\n",
    "{\n",
    "    public string Subject { get; set; }\n",
    "    public int Experience { get; set; }\n",
    "\n",
    "    public Teacher(string name, int age, string gender, string subject, int experience)\n",
    "        : base(name, age, gender)\n",
    "    {\n",
    "        Subject = subject;\n",
    "        Experience = experience;\n",
    "    }\n",
    "\n",
    "    public override void SayHello()\n",
    "    {\n",
    "        Console.WriteLine($\"Привет! Меня зовут {Name} мне {Age}. Я веду предмет {Subject} со стажем работы: {Experience}\");\n",
    "    }\n",
    "}\n",
    "\n",
    "Person person = new Person(\"Василина\", 35, \"Женщина\");\n",
    "person.GetInfo();\n",
    "person.SayHello();\n",
    "\n",
    "Student student = new Student(\"Ярослава\", 22, \"Женщина\", \"ТИУ\", 2, 76.7);\n",
    "student.SayHello();\n",
    "student.CalculateGPA();\n",
    "\n",
    "Employee employee = new Employee(\"Юрий\", 56, \"Мужчина\", \"Газпром\", \"57 000\");\n",
    "employee.GetInfo();\n",
    "\n",
    "Teacher teacher = new Teacher(\"Алексей\", 40, \"Мужчина\", \"Базы данных\", 10);\n",
    "teacher.SayHello();"
   ]
  }
 ],
 "metadata": {
  "kernelspec": {
   "display_name": ".NET (C#)",
   "language": "C#",
   "name": ".net-csharp"
  },
  "polyglot_notebook": {
   "kernelInfo": {
    "defaultKernelName": "csharp",
    "items": [
     {
      "aliases": [],
      "languageName": "csharp",
      "name": "csharp"
     }
    ]
   }
  }
 },
 "nbformat": 4,
 "nbformat_minor": 2
}
