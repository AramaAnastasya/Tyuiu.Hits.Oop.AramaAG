{
 "cells": [
  {
   "cell_type": "markdown",
   "metadata": {},
   "source": [
    "Ниже в блоке (Code) решите задачу\n",
    "Дан целочисленный массив numbers со следующими элементами { 5, 8, 1, 3, 9, 6, 7, 2 }, нужно выполнить следующие операции:\n",
    "\n",
    "Найти минимальное и максимальное значения в массиве.\n",
    "Найти сумму всех элементов массива.\n",
    "Найти среднее арифметическое всех элементов массива.\n",
    "Отсортировать массив в порядке возрастания.\n",
    "Проверить, содержит ли массив определенное число."
   ]
  },
  {
   "cell_type": "markdown",
   "metadata": {},
   "source": [
    "1.Нахождение минимального и макссимального занчения в массиве."
   ]
  },
  {
   "cell_type": "code",
   "execution_count": 3,
   "metadata": {
    "dotnet_interactive": {
     "language": "csharp"
    },
    "polyglot_notebook": {
     "kernelName": "csharp"
    },
    "vscode": {
     "languageId": "polyglot-notebook"
    }
   },
   "outputs": [
    {
     "name": "stdout",
     "output_type": "stream",
     "text": [
      "Максимальное значение: 9\n",
      "Минимальное значение: 1\r\n"
     ]
    }
   ],
   "source": [
    "int[] numbers = new int[] {5, 8, 1, 3, 9, 6, 7, 2 };\n",
    "int max = numbers[0];\n",
    "int min = numbers[0];\n",
    "for(int i = 0; i < numbers.Length; i++)\n",
    "{\n",
    "    max = numbers[i] > max ? numbers[i] : max;\n",
    "    min = numbers[i] < min ? numbers[i] : min;\n",
    "}\n",
    "Console.WriteLine($\"Максимальное значение: {max}\\nМинимальное значение: {min}\")"
   ]
  },
  {
   "cell_type": "markdown",
   "metadata": {},
   "source": [
    "2.Найти сумму всех элементов массива."
   ]
  },
  {
   "cell_type": "code",
   "execution_count": null,
   "metadata": {
    "dotnet_interactive": {
     "language": "csharp"
    },
    "polyglot_notebook": {
     "kernelName": "csharp"
    },
    "vscode": {
     "languageId": "polyglot-notebook"
    }
   },
   "outputs": [],
   "source": [
    "int[] numbers = new int[] {5, 8, 1, 3, 9, 6, 7, 2 };\n",
    "int summ = 0;\n",
    "for(int i = 0; i < numbers.Length; i++)\n",
    "{\n",
    "    summ += numbers[i];\n",
    "}\n",
    "Console.WriteLine($\"Сумма всех элементов: {summ}\");"
   ]
  },
  {
   "cell_type": "markdown",
   "metadata": {},
   "source": [
    "3. Найти среднее арифметическое всех элементов массива."
   ]
  },
  {
   "cell_type": "code",
   "execution_count": 2,
   "metadata": {
    "dotnet_interactive": {
     "language": "csharp"
    },
    "polyglot_notebook": {
     "kernelName": "csharp"
    },
    "vscode": {
     "languageId": "polyglot-notebook"
    }
   },
   "outputs": [
    {
     "name": "stdout",
     "output_type": "stream",
     "text": [
      "Среднее арифметическое всех элементов массива: 5,125\r\n"
     ]
    }
   ],
   "source": [
    "int[] numbers = new int[] {5, 8, 1, 3, 9, 6, 7, 2 };\n",
    "double average = 0;\n",
    "for(int i = 0; i < numbers.Length; i++)\n",
    "{\n",
    "    average += numbers[i];\n",
    "}\n",
    "Console.WriteLine($\"Среднее арифметическое всех элементов массива: {average/numbers.Length}\")"
   ]
  },
  {
   "cell_type": "markdown",
   "metadata": {},
   "source": [
    "4.Отсортировать массив в порядке возрастания."
   ]
  },
  {
   "cell_type": "code",
   "execution_count": 4,
   "metadata": {
    "dotnet_interactive": {
     "language": "csharp"
    },
    "polyglot_notebook": {
     "kernelName": "csharp"
    },
    "vscode": {
     "languageId": "polyglot-notebook"
    }
   },
   "outputs": [
    {
     "name": "stdout",
     "output_type": "stream",
     "text": [
      "Отсортированный массив в порядке возрастания: 1, 2, 3, 5, 6, 7, 8, 9\r\n"
     ]
    }
   ],
   "source": [
    "int[] numbers = new int[] {5, 8, 1, 3, 9, 6, 7, 2 };\n",
    "for (int i = 0; i < numbers.Length - 1; i++)\n",
    "{\n",
    "    for (int j = i + 1; j < numbers.Length; j++)\n",
    "    {\n",
    "        if (numbers[i] > numbers[j])\n",
    "        {\n",
    "            int temp = numbers[i];\n",
    "            numbers[i] = numbers[j];\n",
    "            numbers[j] = temp;\n",
    "        }\n",
    "    }\n",
    "}\n",
    "Console.WriteLine($\"Отсортированный массив в порядке возрастания: {string.Join(\", \", numbers)}\")"
   ]
  },
  {
   "cell_type": "markdown",
   "metadata": {},
   "source": [
    "5. Проверить, содержит ли массив определенное число."
   ]
  },
  {
   "cell_type": "code",
   "execution_count": 5,
   "metadata": {
    "dotnet_interactive": {
     "language": "csharp"
    },
    "polyglot_notebook": {
     "kernelName": "csharp"
    },
    "vscode": {
     "languageId": "polyglot-notebook"
    }
   },
   "outputs": [
    {
     "name": "stdout",
     "output_type": "stream",
     "text": [
      "Массив 5, 8, 1, 3, 9, 6, 7, 2 содержит число 7\r\n"
     ]
    }
   ],
   "source": [
    "int[] numbers = new int[] {5, 8, 1, 3, 9, 6, 7, 2 };\n",
    "Random rand = new Random();\n",
    "int number = rand.Next(0, 10);\n",
    "bool search;\n",
    "for(int i = 0; i < numbers.Length; i++)\n",
    "{\n",
    "    if (number == numbers[i])\n",
    "    {\n",
    "        search = true;\n",
    "        break;\n",
    "    }\n",
    "}\n",
    "string result = search == true ? \"содержит\" : \"не содержит\";\n",
    "Console.WriteLine($\"Массив {string.Join(\", \", numbers)} {result} число {number}\" );"
   ]
  }
 ],
 "metadata": {
  "kernelspec": {
   "display_name": ".NET (C#)",
   "language": "C#",
   "name": ".net-csharp"
  },
  "language_info": {
   "name": "python"
  },
  "polyglot_notebook": {
   "kernelInfo": {
    "defaultKernelName": "csharp",
    "items": [
     {
      "aliases": [],
      "name": "csharp"
     }
    ]
   }
  }
 },
 "nbformat": 4,
 "nbformat_minor": 2
}
