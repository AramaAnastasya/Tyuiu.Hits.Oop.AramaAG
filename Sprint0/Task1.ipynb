{
 "cells": [
  {
   "cell_type": "markdown",
   "metadata": {},
   "source": [
    "<h1 style=\"color:DodgerBlue\">Основные понятия и концепции ООП</h1>\n",
    "\n",
    "Объектно-ориентированное программирование (ООП) в C# включает в себя несколько ключевых концепций, которые помогают структурировать программы и улучшить их читаемость, поддерживаемость и расширяемость. \n",
    "\n",
    "К ним относятся: \n",
    "1. Классы и объекты \n",
    "2. Инкапсуляция \n",
    "3. Насладование \n",
    "4. Полиморфизм \n",
    "5. Абстракция\n",
    "6. Композиция\n",
    "7. Агрегация\n",
    "\n",
    "Давайте рассмотрим каждую из этих концепций подробнее."
   ]
  },
  {
   "cell_type": "markdown",
   "metadata": {},
   "source": [
    "<h4 style=\"color:Red\">Задание:</h4>\n",
    "\n",
    "----\n",
    "\n",
    "Ниже в блоке по примеру создайте класс Animal\n",
    "\n"
   ]
  },
  {
   "cell_type": "code",
   "execution_count": null,
   "metadata": {
    "dotnet_interactive": {
     "language": "csharp"
    },
    "polyglot_notebook": {
     "kernelName": "csharp"
    }
   },
   "outputs": [],
   "source": [
    "class Animal\n",
    "{\n",
    "\n",
    "}\n",
    "Animal Capybara = new Animal();"
   ]
  },
  {
   "cell_type": "markdown",
   "metadata": {},
   "source": [
    "<h4 style=\"color:Red\">Задание:</h4>\n",
    "\n",
    "----\n",
    "\n",
    "Ниже в блоке по примеру создайте класс Animal и реализуйте инкапсуляцию "
   ]
  },
  {
   "cell_type": "code",
   "execution_count": 6,
   "metadata": {
    "dotnet_interactive": {
     "language": "csharp"
    },
    "polyglot_notebook": {
     "kernelName": "csharp"
    }
   },
   "outputs": [
    {
     "name": "stdout",
     "output_type": "stream",
     "text": [
      "Животное проснулось\n",
      "3 года\n"
     ]
    }
   ],
   "source": [
    "class Animal\n",
    "{\n",
    "    private int age;\n",
    "    public int Age\n",
    "    {\n",
    "        get {return age;}\n",
    "        set {age = value;}\n",
    "    }\n",
    "    public void GetUpAnimal()\n",
    "    {\n",
    "        Console.WriteLine(\"Животное проснулось\");\n",
    "    }\n",
    "}\n",
    "Animal Capybara = new Animal();\n",
    "Capybara.Age = 3;\n",
    "Capybara.GetUpAnimal();\n",
    "Console.WriteLine(Capybara.Age + \" года\");"
   ]
  },
  {
   "cell_type": "markdown",
   "metadata": {},
   "source": [
    "<h4 style=\"color:Red\">Задание:</h4>\n",
    "\n",
    "----\n",
    "\n",
    "Ниже в блоке по примеру создайте класс Animal и реализуйте наследование "
   ]
  },
  {
   "cell_type": "code",
   "execution_count": 7,
   "metadata": {
    "dotnet_interactive": {
     "language": "csharp"
    },
    "polyglot_notebook": {
     "kernelName": "csharp"
    }
   },
   "outputs": [
    {
     "name": "stdout",
     "output_type": "stream",
     "text": [
      "Копибара\n",
      "Животное играет\n",
      "Хомяк\n",
      "Животное играет\n"
     ]
    }
   ],
   "source": [
    "class Animal\n",
    "{\n",
    "    private string name;\n",
    "    public string Name\n",
    "    {\n",
    "        get {return name;}\n",
    "        set {name = value;}\n",
    "    }\n",
    "    public void PlayAnimal()\n",
    "    {\n",
    "        Console.WriteLine(\"Животное играет\");\n",
    "    }\n",
    "}\n",
    "class Capybara : Animal\n",
    "{\n",
    "\n",
    "}\n",
    "Animal myAny = new Animal();\n",
    "Capybara myCapy = new Capybara();\n",
    "\n",
    "myCapy.Name = \"Копибара\";\n",
    "Console.WriteLine(myCapy.Name);\n",
    "myCapy.PlayAnimal();\n",
    "\n",
    "myAny.Name = \"Хомяк\";\n",
    "Console.WriteLine(myAny.Name);\n",
    "myAny.PlayAnimal();"
   ]
  },
  {
   "cell_type": "markdown",
   "metadata": {},
   "source": [
    "<h4 style=\"color:Red\">Задание:</h4>\n",
    "\n",
    "----\n",
    "\n",
    "Ниже в блоке по примеру создайте класс Animal и реализуйте полиморфизм "
   ]
  },
  {
   "cell_type": "code",
   "execution_count": 9,
   "metadata": {
    "dotnet_interactive": {
     "language": "csharp"
    },
    "polyglot_notebook": {
     "kernelName": "csharp"
    }
   },
   "outputs": [
    {
     "name": "stdout",
     "output_type": "stream",
     "text": [
      "Животное играет\n",
      "Копибара играет\n"
     ]
    }
   ],
   "source": [
    "class Animal\n",
    "{\n",
    "\n",
    "    public virtual void PlayAnimal()\n",
    "    {\n",
    "        Console.WriteLine(\"Животное играет\");\n",
    "    }\n",
    "}\n",
    "class Capybara : Animal\n",
    "{\n",
    "    public override void PlayAnimal()\n",
    "    {\n",
    "        Console.WriteLine(\"Копибара играет\");\n",
    "    }\n",
    "}\n",
    "Animal myAny = new Animal();\n",
    "Capybara myCapy = new Capybara();\n",
    "\n",
    "myAny.PlayAnimal();\n",
    "myCapy.PlayAnimal();"
   ]
  },
  {
   "cell_type": "markdown",
   "metadata": {},
   "source": [
    "<h4 style=\"color:Red\">Задание:</h4>\n",
    "\n",
    "----\n",
    "\n",
    "Ниже в блоке по примеру создайте класс Animal и реализуйте абстракцию "
   ]
  },
  {
   "cell_type": "code",
   "execution_count": 11,
   "metadata": {
    "dotnet_interactive": {
     "language": "csharp"
    },
    "polyglot_notebook": {
     "kernelName": "csharp"
    }
   },
   "outputs": [
    {
     "name": "stdout",
     "output_type": "stream",
     "text": [
      "Копибара голодная\n",
      "Животное ест\n"
     ]
    }
   ],
   "source": [
    "abstract class Animal\n",
    "{\n",
    "    public abstract void HaveLanch();\n",
    "\n",
    "    public void Move()\n",
    "    {\n",
    "        Console.WriteLine(\"Животное ест\");\n",
    "    }\n",
    "}\n",
    "\n",
    "class Copybara : Animal\n",
    "{\n",
    "    public override void HaveLanch()\n",
    "    {\n",
    "        Console.WriteLine(\"Копибара голодная\");\n",
    "    }\n",
    "}\n",
    "\n",
    "Copybara myCopy = new Copybara(); \n",
    "\n",
    "myCopy.HaveLanch();\n",
    "myCopy.Move();"
   ]
  },
  {
   "cell_type": "markdown",
   "metadata": {},
   "source": [
    "<h4 style=\"color:Red\">Задание:</h4>\n",
    "\n",
    "----\n",
    "\n",
    "Ниже в блоке по примеру создайте класс Animal и реализуйте композицию "
   ]
  },
  {
   "cell_type": "code",
   "execution_count": 14,
   "metadata": {
    "dotnet_interactive": {
     "language": "csharp"
    },
    "polyglot_notebook": {
     "kernelName": "csharp"
    }
   },
   "outputs": [
    {
     "name": "stdout",
     "output_type": "stream",
     "text": [
      "Животное ест\n",
      "Животное играет\n",
      "Животное спит\n"
     ]
    }
   ],
   "source": [
    "using System;\n",
    "\n",
    "public class Action\n",
    "{\n",
    "    public void Eat() => Console.WriteLine(\"Животное ест\");\n",
    "    public void Sleep() => Console.WriteLine(\"Животное спит\");\n",
    "}\n",
    "\n",
    "public class Animal\n",
    "{\n",
    "    private Action action;\n",
    "\n",
    "    public Animal(Action action)\n",
    "    {\n",
    "        this.action = action;\n",
    "    }\n",
    "\n",
    "    public void Play()\n",
    "    {\n",
    "        action.Eat();\n",
    "        Console.WriteLine(\"Животное играет\");\n",
    "\n",
    "        action.Sleep();\n",
    "    }\n",
    "}\n",
    "\n",
    "Action myAct = new Action();\n",
    "Animal myCopy = new Animal(myAct);\n",
    "\n",
    "myCopy.Play();"
   ]
  },
  {
   "cell_type": "markdown",
   "metadata": {},
   "source": [
    "<h4 style=\"color:Red\">Задание:</h4>\n",
    "\n",
    "----\n",
    "\n",
    "Ниже в блоке по примеру создайте класс Animal и реализуйте агрегацию "
   ]
  },
  {
   "cell_type": "code",
   "execution_count": 9,
   "metadata": {},
   "outputs": [
    {
     "name": "stdout",
     "output_type": "stream",
     "text": [
      "Копибара играет\n",
      "Игорь играет с животным\n",
      "Копибара играет\n"
     ]
    }
   ],
   "source": [
    "abstract class Animal\n",
    "{\n",
    "    public abstract void Actio();\n",
    "}\n",
    "\n",
    "class Copybara : Animal\n",
    "{\n",
    "    private Owner owner;\n",
    "\n",
    "    public Copybara(Owner owner)\n",
    "    {\n",
    "        this.owner = owner;\n",
    "    }\n",
    "\n",
    "    public override void Actio()\n",
    "    {\n",
    "        Console.WriteLine(\"Копибара играет\");\n",
    "    }\n",
    "}\n",
    "\n",
    "class Owner\n",
    "{\n",
    "    public string Name { get; set; }\n",
    "\n",
    "    public Owner(string name)\n",
    "    {\n",
    "        Name = name;\n",
    "    }\n",
    "\n",
    "    public void Train(Animal animal)\n",
    "    {\n",
    "        Console.WriteLine($\"{Name} играет с животным\");\n",
    "        animal.Actio();\n",
    "    }\n",
    "}\n",
    "\n",
    "Owner Igor = new Owner(\"Игорь\");\n",
    "Copybara myDog = new Copybara(Igor);\n",
    "\n",
    "myDog.Actio();\n",
    "Igor.Train(myDog);"
   ]
  }
 ],
 "metadata": {
  "kernelspec": {
   "display_name": ".NET (C#)",
   "language": "C#",
   "name": ".net-csharp"
  },
  "polyglot_notebook": {
   "kernelInfo": {
    "defaultKernelName": "csharp",
    "items": [
     {
      "aliases": [],
      "languageName": "csharp",
      "name": "csharp"
     }
    ]
   }
  }
 },
 "nbformat": 4,
 "nbformat_minor": 2
}
