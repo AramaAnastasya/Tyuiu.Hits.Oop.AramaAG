{
 "cells": [
  {
   "cell_type": "markdown",
   "metadata": {},
   "source": [
    "<h4 style=\"color:Red\">Задание:</h4>\n",
    "\n",
    "----\n",
    "\n",
    "Ниже в блоке реализуйте принцип  Single Responsibility Principle (Принцип единственной обязанности) на базе класса Animal"
   ]
  },
  {
   "cell_type": "code",
   "execution_count": 12,
   "metadata": {
    "vscode": {
     "languageId": "polyglot-notebook"
    }
   },
   "outputs": [
    {
     "name": "stdout",
     "output_type": "stream",
     "text": [
      "Животное играет\n",
      "Копибара лает\n"
     ]
    }
   ],
   "source": [
    "public class Animal\n",
    "{\n",
    "    public virtual void Action()\n",
    "    {\n",
    "        Console.WriteLine(\"Животное играет\");\n",
    "    }\n",
    "}\n",
    "public interface IVocalizable\n",
    "{\n",
    "    void Sound();\n",
    "}\n",
    "public class Copybara : Animal, IVocalizable\n",
    "{\n",
    "    public void Sound()\n",
    "    {\n",
    "        Console.WriteLine(\"Копибара лает\");\n",
    "    }    \n",
    "}\n",
    "Animal any = new Animal();\n",
    "Copybara copy = new Copybara();\n",
    "any.Action();\n",
    "copy.Sound();"
   ]
  },
  {
   "cell_type": "markdown",
   "metadata": {},
   "source": [
    "<h4 style=\"color:Red\">Задание:</h4>\n",
    "\n",
    "----\n",
    "\n",
    "Ниже в блоке реализуйте принцип  Open/Closed Principle (Принцип открытости/закрытости) на базе класса Animal"
   ]
  },
  {
   "cell_type": "code",
   "execution_count": 14,
   "metadata": {
    "vscode": {
     "languageId": "polyglot-notebook"
    }
   },
   "outputs": [
    {
     "name": "stdout",
     "output_type": "stream",
     "text": [
      "Животное играет\n",
      "Копибара лает\n",
      "Копибара играет\n"
     ]
    }
   ],
   "source": [
    "public interface IActionAnimal\n",
    "{\n",
    "    void Action();\n",
    "}\n",
    "public class Animal : IActionAnimal\n",
    "{\n",
    "    public void Action()\n",
    "    {\n",
    "        Console.WriteLine(\"Животное играет\");\n",
    "    }\n",
    "}\n",
    "public interface IVocalizable\n",
    "{\n",
    "    void Sound();\n",
    "}\n",
    "public class Copybara : IVocalizable, IActionAnimal\n",
    "{\n",
    "    public void Action()\n",
    "    {\n",
    "        Console.WriteLine(\"Копибара играет\");\n",
    "    }\n",
    "    public void Sound()\n",
    "    {\n",
    "        Console.WriteLine(\"Копибара лает\");\n",
    "    }\n",
    "}\n",
    "Animal any = new Animal();\n",
    "Copybara copy = new Copybara();\n",
    "any.Action();\n",
    "copy.Sound();\n",
    "copy.Action();"
   ]
  },
  {
   "cell_type": "markdown",
   "metadata": {},
   "source": [
    "<h4 style=\"color:Red\">Задание:</h4>\n",
    "\n",
    "----\n",
    "\n",
    "Ниже в блоке реализуйте принцип Liskov Substitution Principle (Принцип подстановки Лисков) на базе класса Animal"
   ]
  },
  {
   "cell_type": "code",
   "execution_count": 11,
   "metadata": {
    "vscode": {
     "languageId": "polyglot-notebook"
    }
   },
   "outputs": [
    {
     "name": "stdout",
     "output_type": "stream",
     "text": [
      "Воробей щебечет\n",
      "Копибара лает\n",
      "Копибара играет\n"
     ]
    }
   ],
   "source": [
    "public interface IVocalizable\n",
    "{\n",
    "    void Sound();\n",
    "}\n",
    "public interface IVocalizableBIrd\n",
    "{\n",
    "    void SoundBird();\n",
    "}\n",
    "public class Sparrow : IVocalizableBIrd\n",
    "{\n",
    "    public void SoundBird()\n",
    "    {\n",
    "        Console.WriteLine(\"Воробей щебечет\");\n",
    "    }\n",
    "}\n",
    "public class Copybara : IVocalizable\n",
    "{\n",
    "    public void Action()\n",
    "    {\n",
    "        Console.WriteLine(\"Копибара играет\");\n",
    "    }\n",
    "    public void Sound()\n",
    "    {\n",
    "        Console.WriteLine(\"Копибара лает\");\n",
    "    }\n",
    "}\n",
    "Sparrow sparrow = new Sparrow();\n",
    "Copybara copy = new Copybara();\n",
    "sparrow.SoundBird();\n",
    "copy.Sound();\n",
    "copy.Action();"
   ]
  },
  {
   "cell_type": "markdown",
   "metadata": {},
   "source": [
    "<h4 style=\"color:Red\">Задание:</h4>\n",
    "\n",
    "----\n",
    "\n",
    "Ниже в блоке реализуйте принцип Interface Segregation Principle (Принцип разделения интерфейсов) на базе класса Animal"
   ]
  },
  {
   "cell_type": "code",
   "execution_count": 16,
   "metadata": {
    "vscode": {
     "languageId": "polyglot-notebook"
    }
   },
   "outputs": [
    {
     "name": "stdout",
     "output_type": "stream",
     "text": [
      "Животное ест\n",
      "Копибара плавает\n",
      "Копибара ест\n",
      "Воробей ест\n",
      "Воробей летает\n"
     ]
    }
   ],
   "source": [
    "public interface IEat\n",
    "{\n",
    "    void Eat();\n",
    "}\n",
    "public interface IFly\n",
    "{\n",
    "    void Fly();\n",
    "}\n",
    "public interface ISwim\n",
    "{\n",
    "    void Swim();\n",
    "}\n",
    "public class Animal : IEat\n",
    "{\n",
    "    public void Eat()\n",
    "    {\n",
    "        Console.WriteLine(\"Животное ест\");\n",
    "    }\n",
    "}\n",
    "public class Copybara : ISwim\n",
    "{\n",
    "    public void Swim()\n",
    "    {\n",
    "        Console.WriteLine(\"Копибара плавает\");\n",
    "    }\n",
    "    public void Eat()\n",
    "    {\n",
    "        Console.WriteLine(\"Копибара ест\");\n",
    "    }\n",
    "}\n",
    "public class Sparrow : IFly\n",
    "{\n",
    "    public void Eat()\n",
    "    {\n",
    "        Console.WriteLine(\"Воробей ест\");\n",
    "    }\n",
    "    public void Fly()\n",
    "    {\n",
    "        Console.WriteLine(\"Воробей летает\");\n",
    "    }\n",
    "}\n",
    "Animal any = new Animal();\n",
    "Sparrow sparrow = new Sparrow();\n",
    "Copybara copy = new Copybara();\n",
    "any.Eat();\n",
    "copy.Swim();\n",
    "copy.Eat();\n",
    "sparrow.Eat();\n",
    "sparrow.Fly();"
   ]
  },
  {
   "cell_type": "markdown",
   "metadata": {},
   "source": [
    "<h4 style=\"color:Red\">Задание:</h4>\n",
    "\n",
    "----\n",
    "\n",
    "Ниже в блоке реализуйте принцип  Dependency Inversion Principle (Принцип инверсии зависимостей) на базе класса Animal"
   ]
  },
  {
   "cell_type": "code",
   "execution_count": 18,
   "metadata": {
    "vscode": {
     "languageId": "polyglot-notebook"
    }
   },
   "outputs": [
    {
     "name": "stdout",
     "output_type": "stream",
     "text": [
      "Животное начало есть\r\n"
     ]
    }
   ],
   "source": [
    "public interface IEat\n",
    "{\n",
    "    void Start();\n",
    "}\n",
    "public class AnimalHungry : IEat\n",
    "{\n",
    "    public void Start()\n",
    "    {\n",
    "        Console.WriteLine(\"Животное начало есть\");\n",
    "    }\n",
    "}\n",
    "public class Animal\n",
    "{\n",
    "    private IEat _eat;\n",
    "    public Animal(IEat eat)\n",
    "    {\n",
    "        _eat = eat;\n",
    "    }\n",
    "    public void StartEat()\n",
    "    {\n",
    "        _eat.Start();\n",
    "    }\n",
    "}\n",
    "AnimalHungry animalHungry = new AnimalHungry();\n",
    "Animal any = new Animal(animalHungry);\n",
    "any.StartEat();"
   ]
  }
 ],
 "metadata": {
  "kernelspec": {
   "display_name": ".NET (C#)",
   "language": "C#",
   "name": ".net-csharp"
  },
  "language_info": {
   "name": "python"
  },
  "polyglot_notebook": {
   "kernelInfo": {
    "defaultKernelName": "csharp",
    "items": [
     {
      "aliases": [],
      "name": "csharp"
     }
    ]
   }
  }
 },
 "nbformat": 4,
 "nbformat_minor": 2
}
